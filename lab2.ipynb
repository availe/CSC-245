{
 "cells": [
  {
   "cell_type": "code",
   "execution_count": 1009,
   "id": "initial_id",
   "metadata": {
    "collapsed": true,
    "ExecuteTime": {
     "end_time": "2024-03-08T03:31:49.959089Z",
     "start_time": "2024-03-08T03:31:49.957313Z"
    }
   },
   "outputs": [],
   "source": [
    "import pandas as pd\n",
    "import numpy as np"
   ]
  },
  {
   "cell_type": "markdown",
   "source": [
    "1. Write a Pandas program to create and display a one-dimensional array-like object containing an array of data using Pandas module."
   ],
   "metadata": {
    "collapsed": false
   },
   "id": "d6cdbefe21d5f292"
  },
  {
   "cell_type": "code",
   "outputs": [
    {
     "name": "stdout",
     "output_type": "stream",
     "text": [
      "0    1\n",
      "1    2\n",
      "2    3\n",
      "dtype: int64\n"
     ]
    }
   ],
   "source": [
    "series = pd.Series([1,2,3])\n",
    "print(series)"
   ],
   "metadata": {
    "collapsed": false,
    "ExecuteTime": {
     "end_time": "2024-03-08T03:31:50.004458Z",
     "start_time": "2024-03-08T03:31:50.001379Z"
    }
   },
   "id": "568f7f44974f7f6",
   "execution_count": 1010
  },
  {
   "cell_type": "markdown",
   "source": [
    "2. Write a Pandas program to convert a Panda module Series to Python list and it's type."
   ],
   "metadata": {
    "collapsed": false
   },
   "id": "60b33bb0885fb680"
  },
  {
   "cell_type": "code",
   "outputs": [
    {
     "name": "stdout",
     "output_type": "stream",
     "text": [
      "List: [1, 2, 3]\n",
      "Type: <class 'list'>\n"
     ]
    }
   ],
   "source": [
    "print(\"List:\", series.tolist())\n",
    "print(\"Type:\", type(series.tolist()))"
   ],
   "metadata": {
    "collapsed": false,
    "ExecuteTime": {
     "end_time": "2024-03-08T03:31:50.007251Z",
     "start_time": "2024-03-08T03:31:50.005512Z"
    }
   },
   "id": "f59ecad49c085349",
   "execution_count": 1011
  },
  {
   "cell_type": "markdown",
   "source": [
    "3. Write a Pandas program to add, subtract, multiple and divide two Pandas Series.\n"
   ],
   "metadata": {
    "collapsed": false
   },
   "id": "90825b43ea40f84f"
  },
  {
   "cell_type": "code",
   "outputs": [
    {
     "name": "stdout",
     "output_type": "stream",
     "text": [
      "Add:\n",
      " 0    10\n",
      "1    10\n",
      "2    10\n",
      "dtype: int64 \n",
      "\n",
      "Subtract:\n",
      " 0   -8\n",
      "1   -6\n",
      "2   -4\n",
      "dtype: int64 \n",
      "\n",
      "Multiply:\n",
      " 0     9\n",
      "1    16\n",
      "2    21\n",
      "dtype: int64 \n",
      "\n",
      "Divide:\n",
      " 0    0.111111\n",
      "1    0.250000\n",
      "2    0.428571\n",
      "dtype: float64 \n"
     ]
    }
   ],
   "source": [
    "series2 = pd.Series([9,8,7])\n",
    "print(\"Add:\\n\", series + series2, \"\\n\") # it seems like adding series of different sizes will result in some Nan values -- though on this occasion I made all the series the same size\n",
    "print(\"Subtract:\\n\", series - series2, \"\\n\")\n",
    "print(\"Multiply:\\n\", series * series2, \"\\n\")\n",
    "print(\"Divide:\\n\", series / series2, \"\\n\")"
   ],
   "metadata": {
    "collapsed": false,
    "ExecuteTime": {
     "end_time": "2024-03-08T03:31:50.011099Z",
     "start_time": "2024-03-08T03:31:50.007959Z"
    }
   },
   "id": "9adf92473cf1f09",
   "execution_count": 1012
  },
  {
   "cell_type": "markdown",
   "source": [
    "4. Write a Pandas program to compare the elements of the two Pandas "
   ],
   "metadata": {
    "collapsed": false
   },
   "id": "d8c7f7566c1e3d0b"
  },
  {
   "cell_type": "code",
   "outputs": [
    {
     "name": "stdout",
     "output_type": "stream",
     "text": [
      "Equals:\n",
      " 0    False\n",
      "1    False\n",
      "2    False\n",
      "dtype: bool \n",
      "\n",
      "Greater:\n",
      " 0    False\n",
      "1    False\n",
      "2    False\n",
      "dtype: bool \n",
      "\n",
      "Less:\n",
      " 0    True\n",
      "1    True\n",
      "2    True\n",
      "dtype: bool \n"
     ]
    }
   ],
   "source": [
    "print(\"Equals:\\n\", series == series2, \"\\n\")\n",
    "print(\"Greater:\\n\", series > series2, \"\\n\")\n",
    "print(\"Less:\\n\", series < series2, \"\\n\")"
   ],
   "metadata": {
    "collapsed": false,
    "ExecuteTime": {
     "end_time": "2024-03-08T03:31:50.014313Z",
     "start_time": "2024-03-08T03:31:50.012180Z"
    }
   },
   "id": "fa5efe79c832447e",
   "execution_count": 1013
  },
  {
   "cell_type": "markdown",
   "source": [
    "5. Write a Pandas program to convert a dictionary to a Pandas series."
   ],
   "metadata": {
    "collapsed": false
   },
   "id": "8d199684f80e65c3"
  },
  {
   "cell_type": "code",
   "outputs": [
    {
     "name": "stdout",
     "output_type": "stream",
     "text": [
      "a    100\n",
      "b    200\n",
      "c    300\n",
      "d    400\n",
      "e    800\n",
      "dtype: int64\n"
     ]
    }
   ],
   "source": [
    "my_dict = {'a': 100, 'b': 200, 'c': 300, 'd': 400, 'e': 800}\n",
    "\n",
    "print(pd.Series(my_dict))"
   ],
   "metadata": {
    "collapsed": false,
    "ExecuteTime": {
     "end_time": "2024-03-08T03:31:50.016787Z",
     "start_time": "2024-03-08T03:31:50.015110Z"
    }
   },
   "id": "6e6c1a8853eebea7",
   "execution_count": 1014
  },
  {
   "cell_type": "markdown",
   "source": [
    "6. Write a Pandas program to convert a NumPy array to a Pandas series."
   ],
   "metadata": {
    "collapsed": false
   },
   "id": "8923d6a38cbdb537"
  },
  {
   "cell_type": "code",
   "outputs": [
    {
     "name": "stdout",
     "output_type": "stream",
     "text": [
      "0    10\n",
      "1    20\n",
      "2    30\n",
      "3    40\n",
      "4    50\n",
      "dtype: int64\n"
     ]
    }
   ],
   "source": [
    "np_array = np.array([10, 20, 30, 40, 50])\n",
    "print(pd.Series(np_array))"
   ],
   "metadata": {
    "collapsed": false,
    "ExecuteTime": {
     "end_time": "2024-03-08T03:31:50.020306Z",
     "start_time": "2024-03-08T03:31:50.018164Z"
    }
   },
   "id": "1f9c19a978b807ec",
   "execution_count": 1015
  },
  {
   "cell_type": "markdown",
   "source": [
    "7. Write a Pandas program to change the data type of given a column or a Series."
   ],
   "metadata": {
    "collapsed": false
   },
   "id": "f8680df3d01eada6"
  },
  {
   "cell_type": "code",
   "outputs": [
    {
     "name": "stdout",
     "output_type": "stream",
     "text": [
      "0    1\n",
      "1    2\n",
      "2    3\n",
      "dtype: object\n"
     ]
    }
   ],
   "source": [
    "series = series.astype(str)\n",
    "print(series)"
   ],
   "metadata": {
    "collapsed": false,
    "ExecuteTime": {
     "end_time": "2024-03-08T03:31:50.022734Z",
     "start_time": "2024-03-08T03:31:50.020852Z"
    }
   },
   "id": "4ad9c61b05dd0956",
   "execution_count": 1016
  },
  {
   "cell_type": "markdown",
   "source": [
    "8. Write a Pandas program to convert the first column of a DataFrame as a Series."
   ],
   "metadata": {
    "collapsed": false
   },
   "id": "7e16002d94b28865"
  },
  {
   "cell_type": "code",
   "outputs": [
    {
     "name": "stdout",
     "output_type": "stream",
     "text": [
      "0       World\n",
      "1    Computer\n",
      "Name: Hello, dtype: object\n"
     ]
    }
   ],
   "source": [
    "# note all arrays must be of same length\n",
    "data_frame = pd.DataFrame({\n",
    "    \"Hello\": [\"World\", \"Computer\"],\n",
    "    1: [2,3],\n",
    "    \"Binary\": [0b0101, 0b1011]\n",
    "})\n",
    "\n",
    "series = data_frame.iloc[:,0] # -- get all rows for 0th column\n",
    "# series = data_frame[\"Binary\"] -- reference by name\n",
    "print(series)"
   ],
   "metadata": {
    "collapsed": false,
    "ExecuteTime": {
     "end_time": "2024-03-08T03:31:50.025462Z",
     "start_time": "2024-03-08T03:31:50.023249Z"
    }
   },
   "id": "aed2969006b04666",
   "execution_count": 1017
  },
  {
   "cell_type": "markdown",
   "source": [
    "9. Write a Pandas program to convert a given Series to an array."
   ],
   "metadata": {
    "collapsed": false
   },
   "id": "5cc2729e90c1b38c"
  },
  {
   "cell_type": "code",
   "outputs": [
    {
     "name": "stdout",
     "output_type": "stream",
     "text": [
      "['World' 'Computer']\n"
     ]
    }
   ],
   "source": [
    "array = series.values\n",
    "print(array)"
   ],
   "metadata": {
    "collapsed": false,
    "ExecuteTime": {
     "end_time": "2024-03-08T03:31:50.027356Z",
     "start_time": "2024-03-08T03:31:50.025880Z"
    }
   },
   "id": "1ded2ac865662749",
   "execution_count": 1018
  },
  {
   "cell_type": "markdown",
   "source": [
    "1. Write a Pandas program to create a dataframe from a dictionary and display it."
   ],
   "metadata": {
    "collapsed": false
   },
   "id": "7b3ec9aedc9f9fa5"
  },
  {
   "cell_type": "code",
   "outputs": [
    {
     "name": "stdout",
     "output_type": "stream",
     "text": [
      "    X   Y   Z\n",
      "0  78  84  86\n",
      "1  85  94  97\n",
      "2  96  89  96\n",
      "3  80  83  72\n",
      "4  86  86  83\n"
     ]
    }
   ],
   "source": [
    "data_frame = pd.DataFrame({\n",
    "    'X':[78,85,96,80,86],\n",
    "    'Y':[84,94,89,83,86],\n",
    "    'Z':[86,97,96,72,83]\n",
    "})\n",
    "\n",
    "print(data_frame)"
   ],
   "metadata": {
    "collapsed": false,
    "ExecuteTime": {
     "end_time": "2024-03-08T03:31:50.030656Z",
     "start_time": "2024-03-08T03:31:50.028474Z"
    }
   },
   "id": "87b9120dd4018c28",
   "execution_count": 1019
  },
  {
   "cell_type": "markdown",
   "source": [
    "2. Write a Pandas program to create and display a DataFrame from a specified dictionary data which has the index labels."
   ],
   "metadata": {
    "collapsed": false
   },
   "id": "8e2d3a2f6287c035"
  },
  {
   "cell_type": "markdown",
   "source": [],
   "metadata": {
    "collapsed": false
   },
   "id": "30723d138dd6beec"
  },
  {
   "cell_type": "code",
   "outputs": [
    {
     "name": "stdout",
     "output_type": "stream",
     "text": [
      "        name  score  attempts qualify\n",
      "a  Anastasia   12.5         1     yes\n",
      "b       Dima    9.0         3      no\n",
      "c  Katherine   16.5         2     yes\n",
      "d      James    NaN         3      no\n",
      "e      Emily    9.0         2      no\n",
      "f    Michael   20.0         3     yes\n",
      "g    Matthew   14.5         1     yes\n",
      "h      Laura    NaN         1      no\n",
      "i      Kevin    8.0         2      no\n",
      "j      Jonas   19.0         1     yes\n"
     ]
    }
   ],
   "source": [
    "exam_data = ({\n",
    "    'name': ['Anastasia', 'Dima', 'Katherine', 'James', 'Emily', 'Michael', 'Matthew', 'Laura', 'Kevin', 'Jonas'],\n",
    "    'score': [12.5, 9, 16.5, np.nan, 9, 20, 14.5, np.nan, 8, 19],\n",
    "    'attempts': [1, 3, 2, 3, 2, 3, 1, 1, 2, 1],\n",
    "    'qualify': ['yes', 'no', 'yes', 'no', 'no', 'yes', 'yes', 'no', 'no', 'yes'],\n",
    "})\n",
    "labels = ['a', 'b', 'c', 'd', 'e', 'f', 'g', 'h', 'i', 'j']\n",
    "\n",
    "original_data_frame = data_frame = pd.DataFrame(exam_data, index=labels)\n",
    "print(data_frame)"
   ],
   "metadata": {
    "collapsed": false,
    "ExecuteTime": {
     "end_time": "2024-03-08T03:31:50.034430Z",
     "start_time": "2024-03-08T03:31:50.031062Z"
    }
   },
   "id": "3a118f90aa2d7098",
   "execution_count": 1020
  },
  {
   "cell_type": "markdown",
   "source": [
    "3. Write a Pandas program to display a summary of the basic information about a specified DataFrame and its data."
   ],
   "metadata": {
    "collapsed": false
   },
   "id": "f1c27367cfbaa98b"
  },
  {
   "cell_type": "code",
   "outputs": [
    {
     "name": "stdout",
     "output_type": "stream",
     "text": [
      "<class 'pandas.core.frame.DataFrame'>\n",
      "Index: 10 entries, a to j\n",
      "Data columns (total 4 columns):\n",
      " #   Column    Non-Null Count  Dtype  \n",
      "---  ------    --------------  -----  \n",
      " 0   name      10 non-null     object \n",
      " 1   score     8 non-null      float64\n",
      " 2   attempts  10 non-null     int64  \n",
      " 3   qualify   10 non-null     object \n",
      "dtypes: float64(1), int64(1), object(2)\n",
      "memory usage: 400.0+ bytes\n",
      "None\n"
     ]
    }
   ],
   "source": [
    "print(data_frame.info())"
   ],
   "metadata": {
    "collapsed": false,
    "ExecuteTime": {
     "end_time": "2024-03-08T03:31:50.039573Z",
     "start_time": "2024-03-08T03:31:50.035475Z"
    }
   },
   "id": "71baf39b222ebfcf",
   "execution_count": 1021
  },
  {
   "cell_type": "markdown",
   "source": [
    "4. Write a Pandas program to get the first 3 rows of a given DataFrame."
   ],
   "metadata": {
    "collapsed": false
   },
   "id": "211a9d7c20cb8cd7"
  },
  {
   "cell_type": "code",
   "outputs": [
    {
     "name": "stdout",
     "output_type": "stream",
     "text": [
      "        name  score  attempts qualify\n",
      "a  Anastasia   12.5         1     yes\n",
      "b       Dima    9.0         3      no\n",
      "c  Katherine   16.5         2     yes\n"
     ]
    }
   ],
   "source": [
    "print(data_frame.head(3))"
   ],
   "metadata": {
    "collapsed": false,
    "ExecuteTime": {
     "end_time": "2024-03-08T03:31:50.042324Z",
     "start_time": "2024-03-08T03:31:50.040136Z"
    }
   },
   "id": "88cc76886cfb1350",
   "execution_count": 1022
  },
  {
   "cell_type": "markdown",
   "source": [
    "5. Write a Pandas program to select the 'name' and 'score' columns from the following DataFrame."
   ],
   "metadata": {
    "collapsed": false
   },
   "id": "7cd6bc88aa064f48"
  },
  {
   "cell_type": "code",
   "outputs": [
    {
     "name": "stdout",
     "output_type": "stream",
     "text": [
      "        name  score\n",
      "a  Anastasia   12.5\n",
      "b       Dima    9.0\n",
      "c  Katherine   16.5\n",
      "d      James    NaN\n",
      "e      Emily    9.0\n",
      "f    Michael   20.0\n",
      "g    Matthew   14.5\n",
      "h      Laura    NaN\n",
      "i      Kevin    8.0\n",
      "j      Jonas   19.0\n"
     ]
    }
   ],
   "source": [
    "print(data_frame[['name', 'score']])"
   ],
   "metadata": {
    "collapsed": false,
    "ExecuteTime": {
     "end_time": "2024-03-08T03:31:50.061243Z",
     "start_time": "2024-03-08T03:31:50.058458Z"
    }
   },
   "id": "c7e1b599953feec9",
   "execution_count": 1023
  },
  {
   "cell_type": "markdown",
   "source": [
    "6. Write a Pandas program to select the specified columns and rows from a given data frame."
   ],
   "metadata": {
    "collapsed": false
   },
   "id": "46e631f875204510"
  },
  {
   "cell_type": "code",
   "outputs": [
    {
     "name": "stdout",
     "output_type": "stream",
     "text": [
      "      name  score\n",
      "b     Dima    9.0\n",
      "d    James    NaN\n",
      "f  Michael   20.0\n",
      "g  Matthew   14.5\n"
     ]
    }
   ],
   "source": [
    "print(data_frame.iloc[[1, 3, 5, 6]][['name', 'score']])"
   ],
   "metadata": {
    "collapsed": false,
    "ExecuteTime": {
     "end_time": "2024-03-08T03:31:50.065567Z",
     "start_time": "2024-03-08T03:31:50.062672Z"
    }
   },
   "id": "c4fe5736eed458f3",
   "execution_count": 1024
  },
  {
   "cell_type": "markdown",
   "source": [
    "7. Write a Pandas program to select the rows where the number of attempts in the examination is greater than 2."
   ],
   "metadata": {
    "collapsed": false
   },
   "id": "9928c53e9139c2e2"
  },
  {
   "cell_type": "code",
   "outputs": [
    {
     "name": "stdout",
     "output_type": "stream",
     "text": [
      "      name  score  attempts qualify\n",
      "b     Dima    9.0         3      no\n",
      "d    James    NaN         3      no\n",
      "f  Michael   20.0         3     yes\n"
     ]
    }
   ],
   "source": [
    "print(data_frame[data_frame['attempts'] > 2])"
   ],
   "metadata": {
    "collapsed": false,
    "ExecuteTime": {
     "end_time": "2024-03-08T03:31:50.075457Z",
     "start_time": "2024-03-08T03:31:50.072784Z"
    }
   },
   "id": "c5b00e21e769e387",
   "execution_count": 1025
  },
  {
   "cell_type": "markdown",
   "source": [
    "8. Write a Pandas program to count the number of rows and columns of a DataFrame."
   ],
   "metadata": {
    "collapsed": false
   },
   "id": "66073736267bbf7a"
  },
  {
   "cell_type": "code",
   "outputs": [
    {
     "name": "stdout",
     "output_type": "stream",
     "text": [
      "Num Rows: 10\n",
      "Num Cols: 4\n"
     ]
    }
   ],
   "source": [
    "print(\"Num Rows:\", len(data_frame))\n",
    "print(\"Num Cols:\", len(data_frame.columns))"
   ],
   "metadata": {
    "collapsed": false,
    "ExecuteTime": {
     "end_time": "2024-03-08T03:31:50.078460Z",
     "start_time": "2024-03-08T03:31:50.076681Z"
    }
   },
   "id": "fed7425bf1a8bd23",
   "execution_count": 1026
  },
  {
   "cell_type": "markdown",
   "source": [
    "9. Write a Pandas program to select the rows where the score is missing, i.e. is NaN."
   ],
   "metadata": {
    "collapsed": false
   },
   "id": "9bfc60d3fe961a1f"
  },
  {
   "cell_type": "code",
   "outputs": [
    {
     "name": "stdout",
     "output_type": "stream",
     "text": [
      "    name  score  attempts qualify\n",
      "d  James    NaN         3      no\n",
      "h  Laura    NaN         1      no\n"
     ]
    }
   ],
   "source": [
    "filt = data_frame['score'].isnull()\n",
    "data_frame = data_frame[filt]\n",
    "print(data_frame)"
   ],
   "metadata": {
    "collapsed": false,
    "ExecuteTime": {
     "end_time": "2024-03-08T03:31:50.081598Z",
     "start_time": "2024-03-08T03:31:50.078870Z"
    }
   },
   "id": "6b9f157028d9eded",
   "execution_count": 1027
  },
  {
   "cell_type": "markdown",
   "source": [
    "10. Write a Pandas program to select the rows the score is between 15 and 20 (inclusive)."
   ],
   "metadata": {
    "collapsed": false
   },
   "id": "1b7a1096e3166de5"
  },
  {
   "cell_type": "code",
   "outputs": [
    {
     "name": "stdout",
     "output_type": "stream",
     "text": [
      "        name  score  attempts qualify\n",
      "c  Katherine   16.5         2     yes\n",
      "f    Michael   20.0         3     yes\n",
      "j      Jonas   19.0         1     yes\n"
     ]
    }
   ],
   "source": [
    "data_frame = original_data_frame\n",
    "filt = data_frame['score'].between(15,21)\n",
    "print(data_frame[filt])"
   ],
   "metadata": {
    "collapsed": false,
    "ExecuteTime": {
     "end_time": "2024-03-08T03:31:50.084846Z",
     "start_time": "2024-03-08T03:31:50.082427Z"
    }
   },
   "id": "1483b5bbad60aac2",
   "execution_count": 1028
  }
 ],
 "metadata": {
  "kernelspec": {
   "display_name": "Python 3",
   "language": "python",
   "name": "python3"
  },
  "language_info": {
   "codemirror_mode": {
    "name": "ipython",
    "version": 2
   },
   "file_extension": ".py",
   "mimetype": "text/x-python",
   "name": "python",
   "nbconvert_exporter": "python",
   "pygments_lexer": "ipython2",
   "version": "2.7.6"
  }
 },
 "nbformat": 4,
 "nbformat_minor": 5
}
