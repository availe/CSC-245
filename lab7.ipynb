{
 "cells": [
  {
   "cell_type": "code",
   "id": "initial_id",
   "metadata": {
    "collapsed": true,
    "ExecuteTime": {
     "end_time": "2024-04-09T17:20:25.541471Z",
     "start_time": "2024-04-09T17:20:25.534696Z"
    }
   },
   "source": [
    "import numpy \n",
    "import pandas as pd \n",
    "from sklearn.datasets import load_breast_cancer\n",
    "\n",
    "cancer = load_breast_cancer() "
   ],
   "outputs": [],
   "execution_count": 4
  },
  {
   "metadata": {},
   "cell_type": "markdown",
   "source": "Question 0: How many features does the breast cancer dataset have? This function should return an integer.",
   "id": "adfc3d86554f81c0"
  },
  {
   "metadata": {
    "ExecuteTime": {
     "end_time": "2024-04-09T17:20:25.545575Z",
     "start_time": "2024-04-09T17:20:25.542826Z"
    }
   },
   "cell_type": "code",
   "source": "print(cancer.feature_names.size)",
   "id": "29562119a4bb2d9d",
   "outputs": [
    {
     "name": "stdout",
     "output_type": "stream",
     "text": [
      "30\n"
     ]
    }
   ],
   "execution_count": 5
  },
  {
   "metadata": {},
   "cell_type": "markdown",
   "source": "Question 1: Scikit-learn works with lists, numpy arrays, scipy-sparse matrices, and pandas DataFrames, so converting the dataset to a DataFrame is not necessary for training this model. Using a DataFrame does however help make many things easier such as munging data, so let's practice creating a classifier with a pandas DataFrame.",
   "id": "70a81a4f84dd4f80"
  },
  {
   "metadata": {
    "ExecuteTime": {
     "end_time": "2024-04-09T17:20:25.549766Z",
     "start_time": "2024-04-09T17:20:25.546244Z"
    }
   },
   "cell_type": "code",
   "source": [
    "df = pd.DataFrame(cancer, columns=cancer.feature_names)\n",
    "print(df.head())"
   ],
   "id": "19b9ade03ca2db2c",
   "outputs": [
    {
     "name": "stdout",
     "output_type": "stream",
     "text": [
      "Empty DataFrame\n",
      "Columns: [mean radius, mean texture, mean perimeter, mean area, mean smoothness, mean compactness, mean concavity, mean concave points, mean symmetry, mean fractal dimension, radius error, texture error, perimeter error, area error, smoothness error, compactness error, concavity error, concave points error, symmetry error, fractal dimension error, worst radius, worst texture, worst perimeter, worst area, worst smoothness, worst compactness, worst concavity, worst concave points, worst symmetry, worst fractal dimension]\n",
      "Index: []\n",
      "\n",
      "[0 rows x 30 columns]\n"
     ]
    }
   ],
   "execution_count": 6
  }
 ],
 "metadata": {
  "kernelspec": {
   "display_name": "Python 3",
   "language": "python",
   "name": "python3"
  },
  "language_info": {
   "codemirror_mode": {
    "name": "ipython",
    "version": 2
   },
   "file_extension": ".py",
   "mimetype": "text/x-python",
   "name": "python",
   "nbconvert_exporter": "python",
   "pygments_lexer": "ipython2",
   "version": "2.7.6"
  }
 },
 "nbformat": 4,
 "nbformat_minor": 5
}
