{
 "cells": [
  {
   "cell_type": "code",
   "id": "initial_id",
   "metadata": {
    "collapsed": true,
    "ExecuteTime": {
     "end_time": "2024-04-08T23:12:55.268574Z",
     "start_time": "2024-04-08T23:12:55.258466Z"
    }
   },
   "source": [
    "import numpy \n",
    "import pandas as pd \n",
    "from sklearn.datasets import load_breast_cancer\n",
    "\n",
    "cancer = load_breast_cancer() "
   ],
   "outputs": [],
   "execution_count": 9
  },
  {
   "metadata": {},
   "cell_type": "markdown",
   "source": "Question 0: How many features does the breast cancer dataset have? This function should return an integer.",
   "id": "adfc3d86554f81c0"
  },
  {
   "metadata": {
    "ExecuteTime": {
     "end_time": "2024-04-08T23:12:55.272852Z",
     "start_time": "2024-04-08T23:12:55.270035Z"
    }
   },
   "cell_type": "code",
   "source": "print(cancer.feature_names.size)",
   "id": "29562119a4bb2d9d",
   "outputs": [
    {
     "name": "stdout",
     "output_type": "stream",
     "text": [
      "30\n"
     ]
    }
   ],
   "execution_count": 10
  },
  {
   "metadata": {},
   "cell_type": "markdown",
   "source": "Question 1: Scikit-learn works with lists, numpy arrays, scipy-sparse matrices, and pandas DataFrames, so converting the dataset to a DataFrame is not necessary for training this model. Using a DataFrame does however help make many things easier such as munging data, so let's practice creating a classifier with a pandas DataFrame.",
   "id": "70a81a4f84dd4f80"
  }
 ],
 "metadata": {
  "kernelspec": {
   "display_name": "Python 3",
   "language": "python",
   "name": "python3"
  },
  "language_info": {
   "codemirror_mode": {
    "name": "ipython",
    "version": 2
   },
   "file_extension": ".py",
   "mimetype": "text/x-python",
   "name": "python",
   "nbconvert_exporter": "python",
   "pygments_lexer": "ipython2",
   "version": "2.7.6"
  }
 },
 "nbformat": 4,
 "nbformat_minor": 5
}
