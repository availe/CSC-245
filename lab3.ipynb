{
 "cells": [
  {
   "cell_type": "code",
   "execution_count": 183,
   "id": "initial_id",
   "metadata": {
    "collapsed": true,
    "ExecuteTime": {
     "end_time": "2024-03-12T00:08:45.673280Z",
     "start_time": "2024-03-12T00:08:45.671170Z"
    }
   },
   "outputs": [],
   "source": [
    "import pandas as pd"
   ]
  },
  {
   "cell_type": "markdown",
   "source": [
    "1. Write a Pandas program to join the two given dataframes along rows and assign all data."
   ],
   "metadata": {
    "collapsed": false
   },
   "id": "eed80fb7d10d82bf"
  },
  {
   "cell_type": "code",
   "outputs": [
    {
     "name": "stdout",
     "output_type": "stream",
     "text": [
      "  student_id              name  marks\n",
      "0         S1  Danniella Fenton    200\n",
      "1         S2      Ryder Storey    210\n",
      "2         S3      Bryce Jensen    190\n",
      "3         S4         Ed Bernal    222\n",
      "4         S5       Kwame Morin    199\n",
      "0         S4  Scarlette Fisher    201\n",
      "1         S5  Carla Williamson    200\n",
      "2         S6       Dante Morse    198\n",
      "3         S7    Kaiser William    219\n",
      "4         S8   Madeeha Preston    201\n"
     ]
    }
   ],
   "source": [
    "student_data1 = pd.DataFrame({\n",
    "        'student_id': ['S1', 'S2', 'S3', 'S4', 'S5'],\n",
    "         'name': ['Danniella Fenton', 'Ryder Storey', 'Bryce Jensen', 'Ed Bernal', 'Kwame Morin'], \n",
    "        'marks': [200, 210, 190, 222, 199]})\n",
    "\n",
    "student_data2 = pd.DataFrame({\n",
    "        'student_id': ['S4', 'S5', 'S6', 'S7', 'S8'],\n",
    "        'name': ['Scarlette Fisher', 'Carla Williamson', 'Dante Morse', 'Kaiser William', 'Madeeha Preston'], \n",
    "        'marks': [201, 200, 198, 219, 201]})\n",
    "\n",
    "result_data = pd.concat([student_data1, student_data2])\n",
    "print(result_data)"
   ],
   "metadata": {
    "collapsed": false,
    "ExecuteTime": {
     "end_time": "2024-03-12T00:08:45.683949Z",
     "start_time": "2024-03-12T00:08:45.679284Z"
    }
   },
   "id": "6d66859e5a06a386",
   "execution_count": 184
  },
  {
   "cell_type": "markdown",
   "source": [
    "2. Write a Pandas program to join the two given dataframes along columns and assign all data."
   ],
   "metadata": {
    "collapsed": false
   },
   "id": "f41c417ef33c3f7d"
  },
  {
   "cell_type": "code",
   "outputs": [
    {
     "name": "stdout",
     "output_type": "stream",
     "text": [
      "  student_id              name  marks student_id              name  marks\n",
      "0         S1  Danniella Fenton    200         S4  Scarlette Fisher    201\n",
      "1         S2      Ryder Storey    210         S5  Carla Williamson    200\n",
      "2         S3      Bryce Jensen    190         S6       Dante Morse    198\n",
      "3         S4         Ed Bernal    222         S7    Kaiser William    219\n",
      "4         S5       Kwame Morin    199         S8   Madeeha Preston    201\n"
     ]
    }
   ],
   "source": [
    "result_data = pd.concat([student_data1, student_data2], axis=1)\n",
    "print(result_data)"
   ],
   "metadata": {
    "collapsed": false,
    "ExecuteTime": {
     "end_time": "2024-03-12T00:08:45.692840Z",
     "start_time": "2024-03-12T00:08:45.689409Z"
    }
   },
   "id": "3bdab6bcaa934aa7",
   "execution_count": 185
  },
  {
   "cell_type": "markdown",
   "source": [
    "3. Write a Pandas program to append rows to an existing DataFrame and display the combined data."
   ],
   "metadata": {
    "collapsed": false
   },
   "id": "1ec43eff3ae5c57c"
  },
  {
   "cell_type": "code",
   "outputs": [
    {
     "name": "stdout",
     "output_type": "stream",
     "text": [
      "  student_id              name marks\n",
      "0         S1  Danniella Fenton   200\n",
      "1         S2      Ryder Storey   210\n",
      "2         S3      Bryce Jensen   190\n",
      "3         S4         Ed Bernal   222\n",
      "4         S5       Kwame Morin   199\n",
      "5         S4  Scarlette Fisher   201\n"
     ]
    }
   ],
   "source": [
    "temp_data = student_data2.iloc[0,:].to_frame().T # T is for transpose (like in matrices)\n",
    "result_data = pd.concat([student_data1, temp_data], axis=0, ignore_index=True)\n",
    "print(result_data)"
   ],
   "metadata": {
    "collapsed": false,
    "ExecuteTime": {
     "end_time": "2024-03-12T00:08:45.698200Z",
     "start_time": "2024-03-12T00:08:45.694578Z"
    }
   },
   "id": "c4bd01c70c4e220",
   "execution_count": 186
  },
  {
   "cell_type": "markdown",
   "source": [
    "4. Write a Pandas program to append a list of dictionaries or series to a existing DataFrame and display the combined data."
   ],
   "metadata": {
    "collapsed": false
   },
   "id": "42046aaf9d2d026e"
  },
  {
   "cell_type": "code",
   "outputs": [
    {
     "name": "stdout",
     "output_type": "stream",
     "text": [
      "Dictionary: {'student_id': 'S4', 'name': 'Scarlette Fisher', 'marks': 201}\n",
      "\n",
      "  student_id              name  marks\n",
      "0         S1  Danniella Fenton    200\n",
      "1         S2      Ryder Storey    210\n",
      "2         S3      Bryce Jensen    190\n",
      "3         S4         Ed Bernal    222\n",
      "4         S5       Kwame Morin    199\n",
      "5         S4  Scarlette Fisher    201\n"
     ]
    }
   ],
   "source": [
    "temp_dict = student_data2.iloc[0,:].to_dict() # convert data frame to dict to satisfy question\n",
    "print(\"Dictionary:\", temp_dict, end=\"\\n\\n\")\n",
    "\n",
    "temp_data = pd.DataFrame([temp_dict]) # concat cannot use dicts so we convert it back to data frame\n",
    "result_data = pd.concat([student_data1, temp_data], ignore_index=True)\n",
    "print(result_data)"
   ],
   "metadata": {
    "collapsed": false,
    "ExecuteTime": {
     "end_time": "2024-03-12T00:08:45.702225Z",
     "start_time": "2024-03-12T00:08:45.698751Z"
    }
   },
   "id": "a4cbcf48b2e7594a",
   "execution_count": 187
  },
  {
   "cell_type": "markdown",
   "source": [
    "5. Write a Pandas program to join the two given dataframes along rows and merge with another dataframe along the common column id."
   ],
   "metadata": {
    "collapsed": false
   },
   "id": "f40aee0dfd419467"
  },
  {
   "cell_type": "code",
   "outputs": [
    {
     "name": "stdout",
     "output_type": "stream",
     "text": [
      "  student_id              name  marks  exam_id\n",
      "0         S1  Danniella Fenton    200       23\n",
      "1         S2      Ryder Storey    210       45\n",
      "2         S3      Bryce Jensen    190       12\n",
      "3         S4         Ed Bernal    222       67\n",
      "4         S4  Scarlette Fisher    201       67\n",
      "5         S5       Kwame Morin    199       21\n"
     ]
    }
   ],
   "source": [
    "temp_data = pd.concat([student_data1, student_data2])\n",
    "\n",
    "exam_data = pd.DataFrame({\n",
    "        'student_id': ['S1', 'S2', 'S3', 'S4', 'S5', 'S7', 'S8', 'S9', 'S10', 'S11', 'S12', 'S13'],\n",
    "        'exam_id': [23, 45, 12, 67, 21, 55, 33, 14, 56, 83, 88, 12]})\n",
    "\n",
    "result_data = pd.merge(result_data, exam_data, on = 'student_id')\n",
    "print(result_data)"
   ],
   "metadata": {
    "collapsed": false,
    "ExecuteTime": {
     "end_time": "2024-03-12T00:08:45.707485Z",
     "start_time": "2024-03-12T00:08:45.703567Z"
    }
   },
   "id": "df20fe40399abcec",
   "execution_count": 188
  },
  {
   "cell_type": "markdown",
   "source": [
    "6. Write a Pandas program to join the two dataframes using the common column of both dataframes."
   ],
   "metadata": {
    "collapsed": false
   },
   "id": "92a036bf1880c2e"
  },
  {
   "cell_type": "code",
   "outputs": [
    {
     "name": "stdout",
     "output_type": "stream",
     "text": [
      "  student_id       name_x  marks_x            name_y  marks_y\n",
      "0         S4    Ed Bernal      222  Scarlette Fisher      201\n",
      "1         S5  Kwame Morin      199  Carla Williamson      200\n"
     ]
    }
   ],
   "source": [
    "result_data = pd.merge(student_data1, student_data2, on = 'student_id')\n",
    "print(result_data)"
   ],
   "metadata": {
    "collapsed": false,
    "ExecuteTime": {
     "end_time": "2024-03-12T00:08:45.711298Z",
     "start_time": "2024-03-12T00:08:45.708043Z"
    }
   },
   "id": "86379ee27182ea04",
   "execution_count": 189
  }
 ],
 "metadata": {
  "kernelspec": {
   "display_name": "Python 3",
   "language": "python",
   "name": "python3"
  },
  "language_info": {
   "codemirror_mode": {
    "name": "ipython",
    "version": 2
   },
   "file_extension": ".py",
   "mimetype": "text/x-python",
   "name": "python",
   "nbconvert_exporter": "python",
   "pygments_lexer": "ipython2",
   "version": "2.7.6"
  }
 },
 "nbformat": 4,
 "nbformat_minor": 5
}
