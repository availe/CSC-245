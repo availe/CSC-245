{
 "cells": [
  {
   "cell_type": "code",
   "execution_count": 1,
   "id": "initial_id",
   "metadata": {
    "collapsed": true,
    "ExecuteTime": {
     "end_time": "2024-04-02T16:17:58.879899Z",
     "start_time": "2024-04-02T16:17:58.512560Z"
    }
   },
   "outputs": [],
   "source": [
    "import pandas as pd"
   ]
  },
  {
   "cell_type": "markdown",
   "source": [
    "1. Write a Pandas program to join the two given dataframes along rows and assign all data."
   ],
   "metadata": {
    "collapsed": false
   },
   "id": "eed80fb7d10d82bf"
  },
  {
   "cell_type": "code",
   "outputs": [
    {
     "name": "stdout",
     "output_type": "stream",
     "text": [
      "  student_id              name  marks\n",
      "0         S1  Danniella Fenton    200\n",
      "1         S2      Ryder Storey    210\n",
      "2         S3      Bryce Jensen    190\n",
      "3         S4         Ed Bernal    222\n",
      "4         S5       Kwame Morin    199\n",
      "0         S4  Scarlette Fisher    201\n",
      "1         S5  Carla Williamson    200\n",
      "2         S6       Dante Morse    198\n",
      "3         S7    Kaiser William    219\n",
      "4         S8   Madeeha Preston    201\n"
     ]
    }
   ],
   "source": [
    "student_data1 = pd.DataFrame({\n",
    "        'student_id': ['S1', 'S2', 'S3', 'S4', 'S5'],\n",
    "         'name': ['Danniella Fenton', 'Ryder Storey', 'Bryce Jensen', 'Ed Bernal', 'Kwame Morin'], \n",
    "        'marks': [200, 210, 190, 222, 199]})\n",
    "\n",
    "student_data2 = pd.DataFrame({\n",
    "        'student_id': ['S4', 'S5', 'S6', 'S7', 'S8'],\n",
    "        'name': ['Scarlette Fisher', 'Carla Williamson', 'Dante Morse', 'Kaiser William', 'Madeeha Preston'], \n",
    "        'marks': [201, 200, 198, 219, 201]})\n",
    "\n",
    "result_data = pd.concat([student_data1, student_data2])\n",
    "print(result_data)"
   ],
   "metadata": {
    "collapsed": false,
    "ExecuteTime": {
     "end_time": "2024-04-02T16:17:58.888599Z",
     "start_time": "2024-04-02T16:17:58.880781Z"
    }
   },
   "id": "6d66859e5a06a386",
   "execution_count": 2
  },
  {
   "cell_type": "markdown",
   "source": [
    "2. Write a Pandas program to join the two given dataframes along columns and assign all data."
   ],
   "metadata": {
    "collapsed": false
   },
   "id": "f41c417ef33c3f7d"
  },
  {
   "cell_type": "code",
   "outputs": [
    {
     "name": "stdout",
     "output_type": "stream",
     "text": [
      "  student_id              name  marks student_id              name  marks\n",
      "0         S1  Danniella Fenton    200         S4  Scarlette Fisher    201\n",
      "1         S2      Ryder Storey    210         S5  Carla Williamson    200\n",
      "2         S3      Bryce Jensen    190         S6       Dante Morse    198\n",
      "3         S4         Ed Bernal    222         S7    Kaiser William    219\n",
      "4         S5       Kwame Morin    199         S8   Madeeha Preston    201\n"
     ]
    }
   ],
   "source": [
    "result_data = pd.concat([student_data1, student_data2], axis=1)\n",
    "print(result_data)"
   ],
   "metadata": {
    "collapsed": false,
    "ExecuteTime": {
     "end_time": "2024-04-02T16:17:58.892942Z",
     "start_time": "2024-04-02T16:17:58.889215Z"
    }
   },
   "id": "3bdab6bcaa934aa7",
   "execution_count": 3
  },
  {
   "cell_type": "markdown",
   "source": [
    "3. Write a Pandas program to append rows to an existing DataFrame and display the combined data."
   ],
   "metadata": {
    "collapsed": false
   },
   "id": "1ec43eff3ae5c57c"
  },
  {
   "cell_type": "code",
   "outputs": [
    {
     "name": "stdout",
     "output_type": "stream",
     "text": [
      "  student_id              name marks\n",
      "0         S1  Danniella Fenton   200\n",
      "1         S2      Ryder Storey   210\n",
      "2         S3      Bryce Jensen   190\n",
      "3         S4         Ed Bernal   222\n",
      "4         S5       Kwame Morin   199\n",
      "5         S4  Scarlette Fisher   201\n"
     ]
    }
   ],
   "source": [
    "temp_data = student_data2.iloc[0,:].to_frame().T # T is for transpose (like in matrices)\n",
    "result_data = pd.concat([student_data1, temp_data], axis=0, ignore_index=True)\n",
    "print(result_data)"
   ],
   "metadata": {
    "collapsed": false,
    "ExecuteTime": {
     "end_time": "2024-04-02T16:17:58.896766Z",
     "start_time": "2024-04-02T16:17:58.894187Z"
    }
   },
   "id": "c4bd01c70c4e220",
   "execution_count": 4
  },
  {
   "cell_type": "markdown",
   "source": [
    "4. Write a Pandas program to append a list of dictionaries or series to a existing DataFrame and display the combined data."
   ],
   "metadata": {
    "collapsed": false
   },
   "id": "42046aaf9d2d026e"
  },
  {
   "cell_type": "code",
   "outputs": [
    {
     "name": "stdout",
     "output_type": "stream",
     "text": [
      "Dictionary: {'student_id': 'S4', 'name': 'Scarlette Fisher', 'marks': 201}\n",
      "\n",
      "  student_id              name  marks\n",
      "0         S1  Danniella Fenton    200\n",
      "1         S2      Ryder Storey    210\n",
      "2         S3      Bryce Jensen    190\n",
      "3         S4         Ed Bernal    222\n",
      "4         S5       Kwame Morin    199\n",
      "5         S4  Scarlette Fisher    201\n"
     ]
    }
   ],
   "source": [
    "temp_dict = student_data2.iloc[0,:].to_dict() # convert data frame to dict to satisfy question\n",
    "print(\"Dictionary:\", temp_dict, end=\"\\n\\n\")\n",
    "\n",
    "temp_data = pd.DataFrame([temp_dict]) # concat cannot use dicts so we convert it back to data frame\n",
    "result_data = pd.concat([student_data1, temp_data], ignore_index=True)\n",
    "print(result_data)"
   ],
   "metadata": {
    "collapsed": false,
    "ExecuteTime": {
     "end_time": "2024-04-02T16:17:58.900375Z",
     "start_time": "2024-04-02T16:17:58.897291Z"
    }
   },
   "id": "a4cbcf48b2e7594a",
   "execution_count": 5
  },
  {
   "cell_type": "markdown",
   "source": [
    "5. Write a Pandas program to join the two given dataframes along rows and merge with another dataframe along the common column id."
   ],
   "metadata": {
    "collapsed": false
   },
   "id": "f40aee0dfd419467"
  },
  {
   "cell_type": "code",
   "outputs": [
    {
     "name": "stdout",
     "output_type": "stream",
     "text": [
      "  student_id              name  marks  exam_id\n",
      "0         S1  Danniella Fenton    200       23\n",
      "1         S2      Ryder Storey    210       45\n",
      "2         S3      Bryce Jensen    190       12\n",
      "3         S4         Ed Bernal    222       67\n",
      "4         S5       Kwame Morin    199       21\n",
      "5         S4  Scarlette Fisher    201       67\n"
     ]
    }
   ],
   "source": [
    "temp_data = pd.concat([student_data1, student_data2])\n",
    "\n",
    "exam_data = pd.DataFrame({\n",
    "        'student_id': ['S1', 'S2', 'S3', 'S4', 'S5', 'S7', 'S8', 'S9', 'S10', 'S11', 'S12', 'S13'],\n",
    "        'exam_id': [23, 45, 12, 67, 21, 55, 33, 14, 56, 83, 88, 12]})\n",
    "\n",
    "result_data = pd.merge(result_data, exam_data, on = 'student_id')\n",
    "print(result_data)"
   ],
   "metadata": {
    "collapsed": false,
    "ExecuteTime": {
     "end_time": "2024-04-02T16:17:58.906213Z",
     "start_time": "2024-04-02T16:17:58.901046Z"
    }
   },
   "id": "df20fe40399abcec",
   "execution_count": 6
  },
  {
   "cell_type": "markdown",
   "source": [
    "6. Write a Pandas program to join the two dataframes using the common column of both dataframes."
   ],
   "metadata": {
    "collapsed": false
   },
   "id": "92a036bf1880c2e"
  },
  {
   "cell_type": "code",
   "outputs": [
    {
     "name": "stdout",
     "output_type": "stream",
     "text": [
      "  student_id       name_x  marks_x            name_y  marks_y\n",
      "0         S4    Ed Bernal      222  Scarlette Fisher      201\n",
      "1         S5  Kwame Morin      199  Carla Williamson      200\n"
     ]
    }
   ],
   "source": [
    "result_data = pd.merge(student_data1, student_data2, on = 'student_id')\n",
    "print(result_data)"
   ],
   "metadata": {
    "collapsed": false,
    "ExecuteTime": {
     "end_time": "2024-04-02T16:17:58.911295Z",
     "start_time": "2024-04-02T16:17:58.906827Z"
    }
   },
   "id": "86379ee27182ea04",
   "execution_count": 7
  },
  {
   "cell_type": "markdown",
   "source": [
    "7. Write a Pandas program to join the two dataframes with matching records from both sides where available."
   ],
   "metadata": {
    "collapsed": false
   },
   "id": "c79a11b84da3b81f"
  },
  {
   "cell_type": "code",
   "outputs": [
    {
     "name": "stdout",
     "output_type": "stream",
     "text": [
      "  student_id            name_x  marks_x            name_y  marks_y\n",
      "0         S1  Danniella Fenton    200.0               NaN      NaN\n",
      "1         S2      Ryder Storey    210.0               NaN      NaN\n",
      "2         S3      Bryce Jensen    190.0               NaN      NaN\n",
      "3         S4         Ed Bernal    222.0  Scarlette Fisher    201.0\n",
      "4         S5       Kwame Morin    199.0  Carla Williamson    200.0\n",
      "5         S6               NaN      NaN       Dante Morse    198.0\n",
      "6         S7               NaN      NaN    Kaiser William    219.0\n",
      "7         S8               NaN      NaN   Madeeha Preston    201.0\n"
     ]
    }
   ],
   "source": [
    "result_data = pd.merge(student_data1, student_data2, on = 'student_id', how = 'outer')\n",
    "print(result_data)\n"
   ],
   "metadata": {
    "collapsed": false,
    "ExecuteTime": {
     "end_time": "2024-04-02T16:17:58.916232Z",
     "start_time": "2024-04-02T16:17:58.911781Z"
    }
   },
   "id": "d4ec37548d1e303f",
   "execution_count": 8
  },
  {
   "cell_type": "markdown",
   "source": [
    "8. Write a Pandas program to join (left join) the two dataframes using keys from left dataframe only."
   ],
   "metadata": {
    "collapsed": false
   },
   "id": "afc08d64277eaf74"
  },
  {
   "cell_type": "code",
   "outputs": [
    {
     "name": "stdout",
     "output_type": "stream",
     "text": [
      "  key1 key2   P   Q    R    S\n",
      "0   K0   K0  P0  Q0   R0   S0\n",
      "1   K0   K1  P1  Q1  NaN  NaN\n",
      "2   K1   K0  P2  Q2   R1   S1\n",
      "3   K1   K0  P2  Q2   R2   S2\n",
      "4   K2   K1  P3  Q3  NaN  NaN\n"
     ]
    }
   ],
   "source": [
    "data1 = pd.DataFrame({'key1': ['K0', 'K0', 'K1', 'K2'],\n",
    "                     'key2': ['K0', 'K1', 'K0', 'K1'],\n",
    "                     'P': ['P0', 'P1', 'P2', 'P3'],\n",
    "                     'Q': ['Q0', 'Q1', 'Q2', 'Q3']}) \n",
    "data2 = pd.DataFrame({'key1': ['K0', 'K1', 'K1', 'K2'],\n",
    "                      'key2': ['K0', 'K0', 'K0', 'K0'],\n",
    "                      'R': ['R0', 'R1', 'R2', 'R3'],\n",
    "                      'S': ['S0', 'S1', 'S2', 'S3']})\n",
    "\n",
    "result_data = pd.merge(data1, data2, how='left', on=['key1', 'key2'])\n",
    "print(result_data)"
   ],
   "metadata": {
    "collapsed": false,
    "ExecuteTime": {
     "end_time": "2024-04-02T16:17:58.922984Z",
     "start_time": "2024-04-02T16:17:58.916794Z"
    }
   },
   "id": "61daebd9e53223f3",
   "execution_count": 9
  },
  {
   "cell_type": "markdown",
   "source": [
    "9. Write a Pandas program to join two dataframes using keys from right dataframe only."
   ],
   "metadata": {
    "collapsed": false
   },
   "id": "7849db525ae42474"
  },
  {
   "cell_type": "code",
   "outputs": [
    {
     "name": "stdout",
     "output_type": "stream",
     "text": [
      "  key1 key2    P    Q   R   S\n",
      "0   K0   K0   P0   Q0  R0  S0\n",
      "1   K1   K0   P2   Q2  R1  S1\n",
      "2   K1   K0   P2   Q2  R2  S2\n",
      "3   K2   K0  NaN  NaN  R3  S3\n"
     ]
    }
   ],
   "source": [
    "result_data = pd.merge(data1, data2, how='right', on=['key1', 'key2'])\n",
    "print(result_data)"
   ],
   "metadata": {
    "collapsed": false,
    "ExecuteTime": {
     "end_time": "2024-04-02T16:17:58.928272Z",
     "start_time": "2024-04-02T16:17:58.924597Z"
    }
   },
   "id": "5fac21f332e2be92",
   "execution_count": 10
  },
  {
   "cell_type": "markdown",
   "source": [
    "10. Write a Pandas program to merge two given datasets using multiple join keys."
   ],
   "metadata": {
    "collapsed": false
   },
   "id": "aee7e083dc18e60c"
  },
  {
   "cell_type": "code",
   "outputs": [
    {
     "name": "stdout",
     "output_type": "stream",
     "text": [
      "  key1 key2   P   Q   R   S\n",
      "0   K0   K0  P0  Q0  R0  S0\n",
      "1   K1   K0  P2  Q2  R1  S1\n",
      "2   K1   K0  P2  Q2  R2  S2\n"
     ]
    }
   ],
   "source": [
    "result_data = pd.merge(data1, data2, on=['key1', 'key2'])\n",
    "print(result_data)"
   ],
   "metadata": {
    "collapsed": false,
    "ExecuteTime": {
     "end_time": "2024-04-02T16:17:58.931671Z",
     "start_time": "2024-04-02T16:17:58.928741Z"
    }
   },
   "id": "6d4755e7906bb1e2",
   "execution_count": 11
  },
  {
   "cell_type": "markdown",
   "source": [
    "11. Write a Pandas program to create a new DataFrame based on existing series, using specified argument and override the existing columns names."
   ],
   "metadata": {
    "collapsed": false
   },
   "id": "4777537638bce77d"
  },
  {
   "cell_type": "code",
   "outputs": [
    {
     "name": "stdout",
     "output_type": "stream",
     "text": [
      "   Num Letter\n",
      "0    1      a\n",
      "1    2      b\n",
      "2    3      c\n"
     ]
    }
   ],
   "source": [
    "data3 = pd.Series([1,2,3], name='numbers')\n",
    "data4 = pd.Series(['a', 'b', 'c'])\n",
    "result_data = pd.DataFrame({'Num': data3, 'Letter': data4})\n",
    "print(result_data)"
   ],
   "metadata": {
    "collapsed": false,
    "ExecuteTime": {
     "end_time": "2024-04-02T16:17:58.934940Z",
     "start_time": "2024-04-02T16:17:58.932101Z"
    }
   },
   "id": "492d45dc50e026fb",
   "execution_count": 12
  },
  {
   "cell_type": "markdown",
   "source": [
    "12. Write a Pandas program to create a combination from two dataframes where a column id combination appears more than once in both dataframes."
   ],
   "metadata": {
    "collapsed": false
   },
   "id": "fcb9fd1a7174c1d"
  },
  {
   "cell_type": "code",
   "outputs": [
    {
     "name": "stdout",
     "output_type": "stream",
     "text": [
      "  key1 key2_x   P   Q key2_y   R   S\n",
      "0   K0     K0  P0  Q0     K0  R0  S0\n",
      "1   K0     K1  P1  Q1     K0  R0  S0\n",
      "2   K1     K0  P2  Q2     K0  R1  S1\n",
      "3   K1     K0  P2  Q2     K0  R2  S2\n",
      "4   K2     K1  P3  Q3     K0  R3  S3\n"
     ]
    }
   ],
   "source": [
    "result_data = pd.merge(data1, data2, on='key1')\n",
    "print(result_data)"
   ],
   "metadata": {
    "collapsed": false,
    "ExecuteTime": {
     "end_time": "2024-04-02T16:17:58.938330Z",
     "start_time": "2024-04-02T16:17:58.935433Z"
    }
   },
   "id": "5bad750085034194",
   "execution_count": 13
  },
  {
   "cell_type": "markdown",
   "source": [
    "13. Write a Pandas program to combine the columns of two potentially differently-indexed DataFrames into a single result DataFrame."
   ],
   "metadata": {
    "collapsed": false
   },
   "id": "de15765dab94081e"
  },
  {
   "cell_type": "code",
   "outputs": [
    {
     "name": "stdout",
     "output_type": "stream",
     "text": [
      "     A   B    C    D\n",
      "K0  A0  B0   C0   D0\n",
      "K1  A1  B1  NaN  NaN\n",
      "K2  A2  B2   C2   D2\n"
     ]
    }
   ],
   "source": [
    "data1 = pd.DataFrame({'A': ['A0', 'A1', 'A2'],\n",
    "                      'B': ['B0', 'B1', 'B2']},\n",
    "                     index=['K0', 'K1', 'K2'])\n",
    "\n",
    "data2 = pd.DataFrame({'C': ['C0', 'C2', 'C3'],\n",
    "                      'D': ['D0', 'D2', 'D3']},\n",
    "                     index=['K0', 'K2', 'K3'])\n",
    "\n",
    "result_data = data1.join(data2)\n",
    "print(result_data)"
   ],
   "metadata": {
    "collapsed": false,
    "ExecuteTime": {
     "end_time": "2024-04-02T16:17:58.942452Z",
     "start_time": "2024-04-02T16:17:58.939012Z"
    }
   },
   "id": "f1c5f6f0dad6599f",
   "execution_count": 14
  },
  {
   "cell_type": "markdown",
   "source": [
    "14. Write a Pandas program to merge two given dataframes with different columns."
   ],
   "metadata": {
    "collapsed": false
   },
   "id": "bbbe1949c53019ec"
  },
  {
   "cell_type": "code",
   "outputs": [
    {
     "name": "stdout",
     "output_type": "stream",
     "text": [
      "     A    B    C    D\n",
      "0   A0   B0  NaN  NaN\n",
      "1   A1   B1  NaN  NaN\n",
      "2   A2   B2  NaN  NaN\n",
      "3  NaN  NaN   C0   D0\n",
      "4  NaN  NaN   C2   D2\n",
      "5  NaN  NaN   C3   D3\n"
     ]
    }
   ],
   "source": [
    "result_data = pd.concat([data1, data2], axis=0, ignore_index=True)\n",
    "print(result_data)"
   ],
   "metadata": {
    "collapsed": false,
    "ExecuteTime": {
     "end_time": "2024-04-02T16:17:58.945721Z",
     "start_time": "2024-04-02T16:17:58.943097Z"
    }
   },
   "id": "91081ecac7f00b4b",
   "execution_count": 15
  },
  {
   "cell_type": "markdown",
   "source": [
    "15. Write a Pandas program to Combine two DataFrame objects by filling null values in one DataFrame with non-null values from other DataFrame."
   ],
   "metadata": {
    "collapsed": false
   },
   "id": "ee95c11e53e898c8"
  },
  {
   "cell_type": "code",
   "outputs": [
    {
     "name": "stdout",
     "output_type": "stream",
     "text": [
      "     A    B\n",
      "0  1.0  3.0\n",
      "1  0.0  4.0\n",
      "2  3.0  5.0\n"
     ]
    }
   ],
   "source": [
    "data3 = pd.DataFrame({'A': [None, 0, None], 'B': [3, 4, 5]})\n",
    "data4 = pd.DataFrame({'A': [1, 1, 3], 'B': [3, None, 3]})\n",
    "\n",
    "result_data = data3.combine_first(data4)\n",
    "print(result_data)"
   ],
   "metadata": {
    "collapsed": false,
    "ExecuteTime": {
     "end_time": "2024-04-02T16:17:58.949792Z",
     "start_time": "2024-04-02T16:17:58.946177Z"
    }
   },
   "id": "d0e3242dffbf1cad",
   "execution_count": 16
  }
 ],
 "metadata": {
  "kernelspec": {
   "display_name": "Python 3",
   "language": "python",
   "name": "python3"
  },
  "language_info": {
   "codemirror_mode": {
    "name": "ipython",
    "version": 2
   },
   "file_extension": ".py",
   "mimetype": "text/x-python",
   "name": "python",
   "nbconvert_exporter": "python",
   "pygments_lexer": "ipython2",
   "version": "2.7.6"
  }
 },
 "nbformat": 4,
 "nbformat_minor": 5
}
