{
 "cells": [
  {
   "cell_type": "code",
   "execution_count": 74,
   "id": "initial_id",
   "metadata": {
    "collapsed": true,
    "ExecuteTime": {
     "end_time": "2024-03-14T20:14:02.207003Z",
     "start_time": "2024-03-14T20:14:02.205044Z"
    }
   },
   "outputs": [],
   "source": [
    "import pandas as pd"
   ]
  },
  {
   "cell_type": "markdown",
   "source": [
    "1. Write a Pandas program to join the two given dataframes along rows and assign all data."
   ],
   "metadata": {
    "collapsed": false
   },
   "id": "eed80fb7d10d82bf"
  },
  {
   "cell_type": "code",
   "outputs": [
    {
     "name": "stdout",
     "output_type": "stream",
     "text": [
      "  student_id              name  marks\n",
      "0         S1  Danniella Fenton    200\n",
      "1         S2      Ryder Storey    210\n",
      "2         S3      Bryce Jensen    190\n",
      "3         S4         Ed Bernal    222\n",
      "4         S5       Kwame Morin    199\n",
      "0         S4  Scarlette Fisher    201\n",
      "1         S5  Carla Williamson    200\n",
      "2         S6       Dante Morse    198\n",
      "3         S7    Kaiser William    219\n",
      "4         S8   Madeeha Preston    201\n"
     ]
    }
   ],
   "source": [
    "student_data1 = pd.DataFrame({\n",
    "        'student_id': ['S1', 'S2', 'S3', 'S4', 'S5'],\n",
    "         'name': ['Danniella Fenton', 'Ryder Storey', 'Bryce Jensen', 'Ed Bernal', 'Kwame Morin'], \n",
    "        'marks': [200, 210, 190, 222, 199]})\n",
    "\n",
    "student_data2 = pd.DataFrame({\n",
    "        'student_id': ['S4', 'S5', 'S6', 'S7', 'S8'],\n",
    "        'name': ['Scarlette Fisher', 'Carla Williamson', 'Dante Morse', 'Kaiser William', 'Madeeha Preston'], \n",
    "        'marks': [201, 200, 198, 219, 201]})\n",
    "\n",
    "result_data = pd.concat([student_data1, student_data2])\n",
    "print(result_data)"
   ],
   "metadata": {
    "collapsed": false,
    "ExecuteTime": {
     "end_time": "2024-03-14T20:14:02.239917Z",
     "start_time": "2024-03-14T20:14:02.236235Z"
    }
   },
   "id": "6d66859e5a06a386",
   "execution_count": 75
  },
  {
   "cell_type": "markdown",
   "source": [
    "2. Write a Pandas program to join the two given dataframes along columns and assign all data."
   ],
   "metadata": {
    "collapsed": false
   },
   "id": "f41c417ef33c3f7d"
  },
  {
   "cell_type": "code",
   "outputs": [
    {
     "name": "stdout",
     "output_type": "stream",
     "text": [
      "  student_id              name  marks student_id              name  marks\n",
      "0         S1  Danniella Fenton    200         S4  Scarlette Fisher    201\n",
      "1         S2      Ryder Storey    210         S5  Carla Williamson    200\n",
      "2         S3      Bryce Jensen    190         S6       Dante Morse    198\n",
      "3         S4         Ed Bernal    222         S7    Kaiser William    219\n",
      "4         S5       Kwame Morin    199         S8   Madeeha Preston    201\n"
     ]
    }
   ],
   "source": [
    "result_data = pd.concat([student_data1, student_data2], axis=1)\n",
    "print(result_data)"
   ],
   "metadata": {
    "collapsed": false,
    "ExecuteTime": {
     "end_time": "2024-03-14T20:14:02.243411Z",
     "start_time": "2024-03-14T20:14:02.240775Z"
    }
   },
   "id": "3bdab6bcaa934aa7",
   "execution_count": 76
  },
  {
   "cell_type": "markdown",
   "source": [
    "3. Write a Pandas program to append rows to an existing DataFrame and display the combined data."
   ],
   "metadata": {
    "collapsed": false
   },
   "id": "1ec43eff3ae5c57c"
  },
  {
   "cell_type": "code",
   "outputs": [
    {
     "name": "stdout",
     "output_type": "stream",
     "text": [
      "  student_id              name marks\n",
      "0         S1  Danniella Fenton   200\n",
      "1         S2      Ryder Storey   210\n",
      "2         S3      Bryce Jensen   190\n",
      "3         S4         Ed Bernal   222\n",
      "4         S5       Kwame Morin   199\n",
      "5         S4  Scarlette Fisher   201\n"
     ]
    }
   ],
   "source": [
    "temp_data = student_data2.iloc[0,:].to_frame().T # T is for transpose (like in matrices)\n",
    "result_data = pd.concat([student_data1, temp_data], axis=0, ignore_index=True)\n",
    "print(result_data)"
   ],
   "metadata": {
    "collapsed": false,
    "ExecuteTime": {
     "end_time": "2024-03-14T20:14:02.247238Z",
     "start_time": "2024-03-14T20:14:02.244623Z"
    }
   },
   "id": "c4bd01c70c4e220",
   "execution_count": 77
  },
  {
   "cell_type": "markdown",
   "source": [
    "4. Write a Pandas program to append a list of dictionaries or series to a existing DataFrame and display the combined data."
   ],
   "metadata": {
    "collapsed": false
   },
   "id": "42046aaf9d2d026e"
  },
  {
   "cell_type": "code",
   "outputs": [
    {
     "name": "stdout",
     "output_type": "stream",
     "text": [
      "Dictionary: {'student_id': 'S4', 'name': 'Scarlette Fisher', 'marks': 201}\n",
      "\n",
      "  student_id              name  marks\n",
      "0         S1  Danniella Fenton    200\n",
      "1         S2      Ryder Storey    210\n",
      "2         S3      Bryce Jensen    190\n",
      "3         S4         Ed Bernal    222\n",
      "4         S5       Kwame Morin    199\n",
      "5         S4  Scarlette Fisher    201\n"
     ]
    }
   ],
   "source": [
    "temp_dict = student_data2.iloc[0,:].to_dict() # convert data frame to dict to satisfy question\n",
    "print(\"Dictionary:\", temp_dict, end=\"\\n\\n\")\n",
    "\n",
    "temp_data = pd.DataFrame([temp_dict]) # concat cannot use dicts so we convert it back to data frame\n",
    "result_data = pd.concat([student_data1, temp_data], ignore_index=True)\n",
    "print(result_data)"
   ],
   "metadata": {
    "collapsed": false,
    "ExecuteTime": {
     "end_time": "2024-03-14T20:14:02.250534Z",
     "start_time": "2024-03-14T20:14:02.248171Z"
    }
   },
   "id": "a4cbcf48b2e7594a",
   "execution_count": 78
  },
  {
   "cell_type": "markdown",
   "source": [
    "5. Write a Pandas program to join the two given dataframes along rows and merge with another dataframe along the common column id."
   ],
   "metadata": {
    "collapsed": false
   },
   "id": "f40aee0dfd419467"
  },
  {
   "cell_type": "code",
   "outputs": [
    {
     "name": "stdout",
     "output_type": "stream",
     "text": [
      "  student_id              name  marks  exam_id\n",
      "0         S1  Danniella Fenton    200       23\n",
      "1         S2      Ryder Storey    210       45\n",
      "2         S3      Bryce Jensen    190       12\n",
      "3         S4         Ed Bernal    222       67\n",
      "4         S4  Scarlette Fisher    201       67\n",
      "5         S5       Kwame Morin    199       21\n"
     ]
    }
   ],
   "source": [
    "temp_data = pd.concat([student_data1, student_data2])\n",
    "\n",
    "exam_data = pd.DataFrame({\n",
    "        'student_id': ['S1', 'S2', 'S3', 'S4', 'S5', 'S7', 'S8', 'S9', 'S10', 'S11', 'S12', 'S13'],\n",
    "        'exam_id': [23, 45, 12, 67, 21, 55, 33, 14, 56, 83, 88, 12]})\n",
    "\n",
    "result_data = pd.merge(result_data, exam_data, on = 'student_id')\n",
    "print(result_data)"
   ],
   "metadata": {
    "collapsed": false,
    "ExecuteTime": {
     "end_time": "2024-03-14T20:14:02.254704Z",
     "start_time": "2024-03-14T20:14:02.250934Z"
    }
   },
   "id": "df20fe40399abcec",
   "execution_count": 79
  },
  {
   "cell_type": "markdown",
   "source": [
    "6. Write a Pandas program to join the two dataframes using the common column of both dataframes."
   ],
   "metadata": {
    "collapsed": false
   },
   "id": "92a036bf1880c2e"
  },
  {
   "cell_type": "code",
   "outputs": [
    {
     "name": "stdout",
     "output_type": "stream",
     "text": [
      "  student_id       name_x  marks_x            name_y  marks_y\n",
      "0         S4    Ed Bernal      222  Scarlette Fisher      201\n",
      "1         S5  Kwame Morin      199  Carla Williamson      200\n"
     ]
    }
   ],
   "source": [
    "result_data = pd.merge(student_data1, student_data2, on = 'student_id')\n",
    "print(result_data)"
   ],
   "metadata": {
    "collapsed": false,
    "ExecuteTime": {
     "end_time": "2024-03-14T20:14:02.258392Z",
     "start_time": "2024-03-14T20:14:02.255209Z"
    }
   },
   "id": "86379ee27182ea04",
   "execution_count": 80
  },
  {
   "cell_type": "markdown",
   "source": [
    "7. Write a Pandas program to join the two dataframes with matching records from both sides where available."
   ],
   "metadata": {
    "collapsed": false
   },
   "id": "c79a11b84da3b81f"
  },
  {
   "cell_type": "code",
   "outputs": [
    {
     "name": "stdout",
     "output_type": "stream",
     "text": [
      "  student_id            name_x  marks_x            name_y  marks_y\n",
      "0         S1  Danniella Fenton    200.0               NaN      NaN\n",
      "1         S2      Ryder Storey    210.0               NaN      NaN\n",
      "2         S3      Bryce Jensen    190.0               NaN      NaN\n",
      "3         S4         Ed Bernal    222.0  Scarlette Fisher    201.0\n",
      "4         S5       Kwame Morin    199.0  Carla Williamson    200.0\n",
      "5         S6               NaN      NaN       Dante Morse    198.0\n",
      "6         S7               NaN      NaN    Kaiser William    219.0\n",
      "7         S8               NaN      NaN   Madeeha Preston    201.0\n"
     ]
    }
   ],
   "source": [
    "result_data = pd.merge(student_data1, student_data2, on = 'student_id', how = 'outer')\n",
    "print(result_data)\n"
   ],
   "metadata": {
    "collapsed": false,
    "ExecuteTime": {
     "end_time": "2024-03-14T20:14:02.262384Z",
     "start_time": "2024-03-14T20:14:02.259138Z"
    }
   },
   "id": "d4ec37548d1e303f",
   "execution_count": 81
  },
  {
   "cell_type": "markdown",
   "source": [
    "8. Write a Pandas program to join (left join) the two dataframes using keys from left dataframe only."
   ],
   "metadata": {
    "collapsed": false
   },
   "id": "afc08d64277eaf74"
  },
  {
   "cell_type": "code",
   "outputs": [
    {
     "name": "stdout",
     "output_type": "stream",
     "text": [
      "  key1 key2   P   Q    R    S\n",
      "0   K0   K0  P0  Q0   R0   S0\n",
      "1   K0   K1  P1  Q1  NaN  NaN\n",
      "2   K1   K0  P2  Q2   R1   S1\n",
      "3   K1   K0  P2  Q2   R2   S2\n",
      "4   K2   K1  P3  Q3  NaN  NaN\n"
     ]
    }
   ],
   "source": [
    "data1 = pd.DataFrame({'key1': ['K0', 'K0', 'K1', 'K2'],\n",
    "                     'key2': ['K0', 'K1', 'K0', 'K1'],\n",
    "                     'P': ['P0', 'P1', 'P2', 'P3'],\n",
    "                     'Q': ['Q0', 'Q1', 'Q2', 'Q3']}) \n",
    "data2 = pd.DataFrame({'key1': ['K0', 'K1', 'K1', 'K2'],\n",
    "                      'key2': ['K0', 'K0', 'K0', 'K0'],\n",
    "                      'R': ['R0', 'R1', 'R2', 'R3'],\n",
    "                      'S': ['S0', 'S1', 'S2', 'S3']})\n",
    "\n",
    "result_data = pd.merge(data1, data2, how='left', on=['key1', 'key2'])\n",
    "print(result_data)"
   ],
   "metadata": {
    "collapsed": false,
    "ExecuteTime": {
     "end_time": "2024-03-14T20:14:02.266797Z",
     "start_time": "2024-03-14T20:14:02.263052Z"
    }
   },
   "id": "61daebd9e53223f3",
   "execution_count": 82
  },
  {
   "cell_type": "markdown",
   "source": [
    "9. Write a Pandas program to join two dataframes using keys from right dataframe only."
   ],
   "metadata": {
    "collapsed": false
   },
   "id": "7849db525ae42474"
  },
  {
   "cell_type": "code",
   "outputs": [
    {
     "name": "stdout",
     "output_type": "stream",
     "text": [
      "  key1 key2    P    Q   R   S\n",
      "0   K0   K0   P0   Q0  R0  S0\n",
      "1   K1   K0   P2   Q2  R1  S1\n",
      "2   K1   K0   P2   Q2  R2  S2\n",
      "3   K2   K0  NaN  NaN  R3  S3\n"
     ]
    }
   ],
   "source": [
    "result_data = pd.merge(data1, data2, how='right', on=['key1', 'key2'])\n",
    "print(result_data)"
   ],
   "metadata": {
    "collapsed": false,
    "ExecuteTime": {
     "end_time": "2024-03-14T20:14:02.271888Z",
     "start_time": "2024-03-14T20:14:02.268295Z"
    }
   },
   "id": "5fac21f332e2be92",
   "execution_count": 83
  },
  {
   "cell_type": "markdown",
   "source": [
    "10. Write a Pandas program to merge two given datasets using multiple join keys."
   ],
   "metadata": {
    "collapsed": false
   },
   "id": "aee7e083dc18e60c"
  },
  {
   "cell_type": "code",
   "outputs": [
    {
     "name": "stdout",
     "output_type": "stream",
     "text": [
      "  key1 key2   P   Q   R   S\n",
      "0   K0   K0  P0  Q0  R0  S0\n",
      "1   K1   K0  P2  Q2  R1  S1\n",
      "2   K1   K0  P2  Q2  R2  S2\n"
     ]
    }
   ],
   "source": [
    "result_data = pd.merge(data1, data2, on=['key1', 'key2'])\n",
    "print(result_data)"
   ],
   "metadata": {
    "collapsed": false,
    "ExecuteTime": {
     "end_time": "2024-03-14T20:14:02.275011Z",
     "start_time": "2024-03-14T20:14:02.272325Z"
    }
   },
   "id": "6d4755e7906bb1e2",
   "execution_count": 84
  },
  {
   "cell_type": "markdown",
   "source": [
    "11. Write a Pandas program to create a new DataFrame based on existing series, using specified argument and override the existing columns names."
   ],
   "metadata": {
    "collapsed": false
   },
   "id": "4777537638bce77d"
  },
  {
   "cell_type": "code",
   "outputs": [
    {
     "name": "stdout",
     "output_type": "stream",
     "text": [
      "   Num Letter\n",
      "0    1      a\n",
      "1    2      b\n",
      "2    3      c\n"
     ]
    }
   ],
   "source": [
    "data1 = pd.Series([1,2,3], name='numbers')\n",
    "data2 = pd.Series(['a', 'b', 'c'])\n",
    "result_data = pd.DataFrame({'Num': data1, 'Letter': data2})\n",
    "print(result_data)"
   ],
   "metadata": {
    "collapsed": false,
    "ExecuteTime": {
     "end_time": "2024-03-14T20:14:02.277500Z",
     "start_time": "2024-03-14T20:14:02.275466Z"
    }
   },
   "id": "492d45dc50e026fb",
   "execution_count": 85
  }
 ],
 "metadata": {
  "kernelspec": {
   "display_name": "Python 3",
   "language": "python",
   "name": "python3"
  },
  "language_info": {
   "codemirror_mode": {
    "name": "ipython",
    "version": 2
   },
   "file_extension": ".py",
   "mimetype": "text/x-python",
   "name": "python",
   "nbconvert_exporter": "python",
   "pygments_lexer": "ipython2",
   "version": "2.7.6"
  }
 },
 "nbformat": 4,
 "nbformat_minor": 5
}
