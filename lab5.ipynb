{
 "cells": [
  {
   "cell_type": "code",
   "execution_count": 13,
   "id": "initial_id",
   "metadata": {
    "collapsed": true,
    "ExecuteTime": {
     "end_time": "2024-04-02T16:32:57.489588Z",
     "start_time": "2024-04-02T16:32:57.487292Z"
    }
   },
   "outputs": [],
   "source": [
    "import pandas as pd\n",
    "csvPath = 'src/titanic.csv'"
   ]
  },
  {
   "cell_type": "markdown",
   "source": [
    "1. Write a Pandas program to print a concise summary of the dataset (titanic.csv)."
   ],
   "metadata": {
    "collapsed": false
   },
   "id": "8d60a8d5f52dc043"
  },
  {
   "cell_type": "code",
   "outputs": [
    {
     "name": "stdout",
     "output_type": "stream",
     "text": [
      "     survived  pclass     sex   age  sibsp  parch     fare embarked   class  \\\n",
      "0           0       3    male  22.0      1      0   7.2500        S   Third   \n",
      "1           1       1  female  38.0      1      0  71.2833        C   First   \n",
      "2           1       3  female  26.0      0      0   7.9250        S   Third   \n",
      "3           1       1  female  35.0      1      0  53.1000        S   First   \n",
      "4           0       3    male  35.0      0      0   8.0500        S   Third   \n",
      "..        ...     ...     ...   ...    ...    ...      ...      ...     ...   \n",
      "886         0       2    male  27.0      0      0  13.0000        S  Second   \n",
      "887         1       1  female  19.0      0      0  30.0000        S   First   \n",
      "888         0       3  female   NaN      1      2  23.4500        S   Third   \n",
      "889         1       1    male  26.0      0      0  30.0000        C   First   \n",
      "890         0       3    male  32.0      0      0   7.7500        Q   Third   \n",
      "\n",
      "       who  adult_male deck  embark_town alive  alone  Unnamed: 15  \n",
      "0      man        True  NaN  Southampton    no  False          NaN  \n",
      "1    woman       False    C    Cherbourg   yes  False          NaN  \n",
      "2    woman       False  NaN  Southampton   yes   True          NaN  \n",
      "3    woman       False    C  Southampton   yes  False          NaN  \n",
      "4      man        True  NaN  Southampton    no   True          NaN  \n",
      "..     ...         ...  ...          ...   ...    ...          ...  \n",
      "886    man        True  NaN  Southampton    no   True          NaN  \n",
      "887  woman       False    B  Southampton   yes   True          NaN  \n",
      "888  woman       False  NaN  Southampton    no  False          NaN  \n",
      "889    man        True    C    Cherbourg   yes   True          NaN  \n",
      "890    man        True  NaN   Queenstown    no   True          NaN  \n",
      "\n",
      "[891 rows x 16 columns]\n"
     ]
    }
   ],
   "source": [
    "df = pd.read_csv(csvPath)\n",
    "print(df)"
   ],
   "metadata": {
    "collapsed": false,
    "ExecuteTime": {
     "end_time": "2024-04-02T16:32:57.499813Z",
     "start_time": "2024-04-02T16:32:57.492153Z"
    }
   },
   "id": "37d7b5461bf5380a",
   "execution_count": 14
  },
  {
   "cell_type": "markdown",
   "source": [
    "2. Write a Pandas program to extract the column labels, shape and data types of the dataset (titanic.csv)."
   ],
   "metadata": {
    "collapsed": false
   },
   "id": "4f4ba04ac7b25a1b"
  },
  {
   "cell_type": "code",
   "outputs": [
    {
     "name": "stdout",
     "output_type": "stream",
     "text": [
      "Column Labels: Index(['survived', 'pclass', 'sex', 'age', 'sibsp', 'parch', 'fare',\n",
      "       'embarked', 'class', 'who', 'adult_male', 'deck', 'embark_town',\n",
      "       'alive', 'alone', 'Unnamed: 15'],\n",
      "      dtype='object')\n",
      "\n",
      "Shapes: (891, 16)\n",
      "\n",
      "Data Types survived         int64\n",
      "pclass           int64\n",
      "sex             object\n",
      "age            float64\n",
      "sibsp            int64\n",
      "parch            int64\n",
      "fare           float64\n",
      "embarked        object\n",
      "class           object\n",
      "who             object\n",
      "adult_male        bool\n",
      "deck            object\n",
      "embark_town     object\n",
      "alive           object\n",
      "alone             bool\n",
      "Unnamed: 15    float64\n",
      "dtype: object\n"
     ]
    }
   ],
   "source": [
    "table = [ (\"Column Labels:\", df.columns), (\"Shapes:\", df.shape), (\"Data Types\", df.dtypes) ]\n",
    "\n",
    "for key, value in table:\n",
    "    print(key, value, end=\"\\n\\n\")"
   ],
   "metadata": {
    "collapsed": false,
    "ExecuteTime": {
     "end_time": "2024-04-02T16:32:57.503518Z",
     "start_time": "2024-04-02T16:32:57.500785Z"
    }
   },
   "id": "c6d5c9c1026c6f08",
   "execution_count": 15
  }
 ],
 "metadata": {
  "kernelspec": {
   "display_name": "Python 3",
   "language": "python",
   "name": "python3"
  },
  "language_info": {
   "codemirror_mode": {
    "name": "ipython",
    "version": 2
   },
   "file_extension": ".py",
   "mimetype": "text/x-python",
   "name": "python",
   "nbconvert_exporter": "python",
   "pygments_lexer": "ipython2",
   "version": "2.7.6"
  }
 },
 "nbformat": 4,
 "nbformat_minor": 5
}
