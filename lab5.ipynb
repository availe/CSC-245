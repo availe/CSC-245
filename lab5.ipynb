{
 "cells": [
  {
   "cell_type": "code",
   "execution_count": 138,
   "id": "initial_id",
   "metadata": {
    "collapsed": true,
    "ExecuteTime": {
     "end_time": "2024-04-02T17:01:51.407520Z",
     "start_time": "2024-04-02T17:01:51.405345Z"
    }
   },
   "outputs": [],
   "source": [
    "import pandas as pd\n",
    "import numpy as np\n",
    "csvPath = 'src/titanic.csv'"
   ]
  },
  {
   "cell_type": "markdown",
   "source": [
    "1. Write a Pandas program to print a concise summary of the dataset (titanic.csv)."
   ],
   "metadata": {
    "collapsed": false
   },
   "id": "8d60a8d5f52dc043"
  },
  {
   "cell_type": "code",
   "outputs": [
    {
     "name": "stdout",
     "output_type": "stream",
     "text": [
      "     survived  pclass     sex   age  sibsp  parch     fare embarked   class  \\\n",
      "0           0       3    male  22.0      1      0   7.2500        S   Third   \n",
      "1           1       1  female  38.0      1      0  71.2833        C   First   \n",
      "2           1       3  female  26.0      0      0   7.9250        S   Third   \n",
      "3           1       1  female  35.0      1      0  53.1000        S   First   \n",
      "4           0       3    male  35.0      0      0   8.0500        S   Third   \n",
      "..        ...     ...     ...   ...    ...    ...      ...      ...     ...   \n",
      "886         0       2    male  27.0      0      0  13.0000        S  Second   \n",
      "887         1       1  female  19.0      0      0  30.0000        S   First   \n",
      "888         0       3  female   NaN      1      2  23.4500        S   Third   \n",
      "889         1       1    male  26.0      0      0  30.0000        C   First   \n",
      "890         0       3    male  32.0      0      0   7.7500        Q   Third   \n",
      "\n",
      "       who  adult_male deck  embark_town alive  alone  Unnamed: 15  \n",
      "0      man        True  NaN  Southampton    no  False          NaN  \n",
      "1    woman       False    C    Cherbourg   yes  False          NaN  \n",
      "2    woman       False  NaN  Southampton   yes   True          NaN  \n",
      "3    woman       False    C  Southampton   yes  False          NaN  \n",
      "4      man        True  NaN  Southampton    no   True          NaN  \n",
      "..     ...         ...  ...          ...   ...    ...          ...  \n",
      "886    man        True  NaN  Southampton    no   True          NaN  \n",
      "887  woman       False    B  Southampton   yes   True          NaN  \n",
      "888  woman       False  NaN  Southampton    no  False          NaN  \n",
      "889    man        True    C    Cherbourg   yes   True          NaN  \n",
      "890    man        True  NaN   Queenstown    no   True          NaN  \n",
      "\n",
      "[891 rows x 16 columns]\n"
     ]
    }
   ],
   "source": [
    "df = pd.read_csv(csvPath)\n",
    "print(df)"
   ],
   "metadata": {
    "collapsed": false,
    "ExecuteTime": {
     "end_time": "2024-04-02T17:01:51.415812Z",
     "start_time": "2024-04-02T17:01:51.409Z"
    }
   },
   "id": "37d7b5461bf5380a",
   "execution_count": 139
  },
  {
   "cell_type": "markdown",
   "source": [
    "2. Write a Pandas program to extract the column labels, shape and data types of the dataset (titanic.csv)."
   ],
   "metadata": {
    "collapsed": false
   },
   "id": "4f4ba04ac7b25a1b"
  },
  {
   "cell_type": "code",
   "outputs": [
    {
     "name": "stdout",
     "output_type": "stream",
     "text": [
      "Column Labels: Index(['survived', 'pclass', 'sex', 'age', 'sibsp', 'parch', 'fare',\n",
      "       'embarked', 'class', 'who', 'adult_male', 'deck', 'embark_town',\n",
      "       'alive', 'alone', 'Unnamed: 15'],\n",
      "      dtype='object')\n",
      "\n",
      "Shapes: (891, 16)\n",
      "\n",
      "Data Types survived         int64\n",
      "pclass           int64\n",
      "sex             object\n",
      "age            float64\n",
      "sibsp            int64\n",
      "parch            int64\n",
      "fare           float64\n",
      "embarked        object\n",
      "class           object\n",
      "who             object\n",
      "adult_male        bool\n",
      "deck            object\n",
      "embark_town     object\n",
      "alive           object\n",
      "alone             bool\n",
      "Unnamed: 15    float64\n",
      "dtype: object\n"
     ]
    }
   ],
   "source": [
    "table = [ (\"Column Labels:\", df.columns), (\"Shapes:\", df.shape), (\"Data Types\", df.dtypes) ]\n",
    "\n",
    "for key, value in table:\n",
    "    print(key, value, end=\"\\n\\n\")"
   ],
   "metadata": {
    "collapsed": false,
    "ExecuteTime": {
     "end_time": "2024-04-02T17:01:51.421831Z",
     "start_time": "2024-04-02T17:01:51.419258Z"
    }
   },
   "id": "c6d5c9c1026c6f08",
   "execution_count": 140
  },
  {
   "cell_type": "markdown",
   "source": [
    "3. Write a Pandas program to create a Pivot table with multiple indexes from the data set of titanic.csv."
   ],
   "metadata": {
    "collapsed": false
   },
   "id": "bb2c4e34386fb2ee"
  },
  {
   "cell_type": "code",
   "outputs": [
    {
     "data": {
      "text/plain": "                   fare\nsurvived age           \n0        1.0    86.5875\n         2.0   311.0750\n         3.0    21.0750\n         4.0    88.3000\n         6.0    31.2750\n...                 ...\n1        58.0  326.5333\n         60.0  154.4500\n         62.0   90.5000\n         63.0   87.5458\n         80.0   30.0000\n\n[142 rows x 1 columns]",
      "text/html": "<div>\n<style scoped>\n    .dataframe tbody tr th:only-of-type {\n        vertical-align: middle;\n    }\n\n    .dataframe tbody tr th {\n        vertical-align: top;\n    }\n\n    .dataframe thead th {\n        text-align: right;\n    }\n</style>\n<table border=\"1\" class=\"dataframe\">\n  <thead>\n    <tr style=\"text-align: right;\">\n      <th></th>\n      <th></th>\n      <th>fare</th>\n    </tr>\n    <tr>\n      <th>survived</th>\n      <th>age</th>\n      <th></th>\n    </tr>\n  </thead>\n  <tbody>\n    <tr>\n      <th rowspan=\"5\" valign=\"top\">0</th>\n      <th>1.0</th>\n      <td>86.5875</td>\n    </tr>\n    <tr>\n      <th>2.0</th>\n      <td>311.0750</td>\n    </tr>\n    <tr>\n      <th>3.0</th>\n      <td>21.0750</td>\n    </tr>\n    <tr>\n      <th>4.0</th>\n      <td>88.3000</td>\n    </tr>\n    <tr>\n      <th>6.0</th>\n      <td>31.2750</td>\n    </tr>\n    <tr>\n      <th>...</th>\n      <th>...</th>\n      <td>...</td>\n    </tr>\n    <tr>\n      <th rowspan=\"5\" valign=\"top\">1</th>\n      <th>58.0</th>\n      <td>326.5333</td>\n    </tr>\n    <tr>\n      <th>60.0</th>\n      <td>154.4500</td>\n    </tr>\n    <tr>\n      <th>62.0</th>\n      <td>90.5000</td>\n    </tr>\n    <tr>\n      <th>63.0</th>\n      <td>87.5458</td>\n    </tr>\n    <tr>\n      <th>80.0</th>\n      <td>30.0000</td>\n    </tr>\n  </tbody>\n</table>\n<p>142 rows × 1 columns</p>\n</div>"
     },
     "execution_count": 141,
     "metadata": {},
     "output_type": "execute_result"
    }
   ],
   "source": [
    "table = pd.pivot_table(df, index=['survived', 'age'], values=['fare'], aggfunc='sum')\n",
    "table"
   ],
   "metadata": {
    "collapsed": false,
    "ExecuteTime": {
     "end_time": "2024-04-02T17:01:51.428923Z",
     "start_time": "2024-04-02T17:01:51.422650Z"
    }
   },
   "id": "e3b2a26c940243bb",
   "execution_count": 141
  },
  {
   "cell_type": "markdown",
   "source": [
    "4. Write a Pandas program to create a Pivot table and find survival rate by gender on various classes."
   ],
   "metadata": {
    "collapsed": false
   },
   "id": "940ab430dab8ed00"
  },
  {
   "cell_type": "code",
   "outputs": [
    {
     "data": {
      "text/plain": "        survived                    \npclass         1         2         3\nsex                                 \nfemale  0.968085  0.921053  0.500000\nmale    0.368852  0.157407  0.135447",
      "text/html": "<div>\n<style scoped>\n    .dataframe tbody tr th:only-of-type {\n        vertical-align: middle;\n    }\n\n    .dataframe tbody tr th {\n        vertical-align: top;\n    }\n\n    .dataframe thead tr th {\n        text-align: left;\n    }\n\n    .dataframe thead tr:last-of-type th {\n        text-align: right;\n    }\n</style>\n<table border=\"1\" class=\"dataframe\">\n  <thead>\n    <tr>\n      <th></th>\n      <th colspan=\"3\" halign=\"left\">survived</th>\n    </tr>\n    <tr>\n      <th>pclass</th>\n      <th>1</th>\n      <th>2</th>\n      <th>3</th>\n    </tr>\n    <tr>\n      <th>sex</th>\n      <th></th>\n      <th></th>\n      <th></th>\n    </tr>\n  </thead>\n  <tbody>\n    <tr>\n      <th>female</th>\n      <td>0.968085</td>\n      <td>0.921053</td>\n      <td>0.500000</td>\n    </tr>\n    <tr>\n      <th>male</th>\n      <td>0.368852</td>\n      <td>0.157407</td>\n      <td>0.135447</td>\n    </tr>\n  </tbody>\n</table>\n</div>"
     },
     "execution_count": 142,
     "metadata": {},
     "output_type": "execute_result"
    }
   ],
   "source": [
    "table = pd.pivot_table(df, index=['sex'], columns=['pclass'], values=['survived'], aggfunc='mean')\n",
    "table"
   ],
   "metadata": {
    "collapsed": false,
    "ExecuteTime": {
     "end_time": "2024-04-02T17:01:51.435437Z",
     "start_time": "2024-04-02T17:01:51.429460Z"
    }
   },
   "id": "e3c8288b51d655ec",
   "execution_count": 142
  },
  {
   "cell_type": "markdown",
   "source": [
    "5. Write a Pandas program to create a Pivot table and find survival rate by gender."
   ],
   "metadata": {
    "collapsed": false
   },
   "id": "355a28d7527fb233"
  },
  {
   "cell_type": "code",
   "outputs": [
    {
     "data": {
      "text/plain": "sex\nfemale    0.742038\nmale      0.188908\nName: survived, dtype: float64"
     },
     "execution_count": 143,
     "metadata": {},
     "output_type": "execute_result"
    }
   ],
   "source": [
    "table = df.groupby('sex')['survived'].mean()\n",
    "table"
   ],
   "metadata": {
    "collapsed": false,
    "ExecuteTime": {
     "end_time": "2024-04-02T17:01:51.438979Z",
     "start_time": "2024-04-02T17:01:51.436622Z"
    }
   },
   "id": "1c1fe88b382d5111",
   "execution_count": 143
  },
  {
   "cell_type": "markdown",
   "source": [],
   "metadata": {
    "collapsed": false
   },
   "id": "31cb0e658ae6a7ae"
  }
 ],
 "metadata": {
  "kernelspec": {
   "display_name": "Python 3",
   "language": "python",
   "name": "python3"
  },
  "language_info": {
   "codemirror_mode": {
    "name": "ipython",
    "version": 2
   },
   "file_extension": ".py",
   "mimetype": "text/x-python",
   "name": "python",
   "nbconvert_exporter": "python",
   "pygments_lexer": "ipython2",
   "version": "2.7.6"
  }
 },
 "nbformat": 4,
 "nbformat_minor": 5
}
