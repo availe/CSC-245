{
 "cells": [
  {
   "cell_type": "code",
   "outputs": [],
   "source": [
    "import numpy as np"
   ],
   "metadata": {
    "collapsed": false,
    "ExecuteTime": {
     "end_time": "2024-03-01T04:52:59.534496Z",
     "start_time": "2024-03-01T04:52:59.532909Z"
    }
   },
   "id": "da253f38e3aeee82",
   "execution_count": 687
  },
  {
   "cell_type": "markdown",
   "source": [
    "Creating arrays:"
   ],
   "metadata": {
    "collapsed": false
   },
   "id": "d0bf3c68e0832cda"
  },
  {
   "cell_type": "markdown",
   "source": [
    "1. Create a rank 2 (2D) array."
   ],
   "metadata": {
    "collapsed": false
   },
   "id": "c772caa1d2f14246"
  },
  {
   "cell_type": "code",
   "outputs": [
    {
     "name": "stdout",
     "output_type": "stream",
     "text": [
      "[[11 12 13 14]\n",
      " [15 16 17 18]]\n"
     ]
    }
   ],
   "source": [
    "arr = np.array([[11,12,13,14],[15,16,17,18]])\n",
    "print(arr)"
   ],
   "metadata": {
    "collapsed": false,
    "ExecuteTime": {
     "end_time": "2024-03-01T04:52:59.672931Z",
     "start_time": "2024-03-01T04:52:59.670863Z"
    }
   },
   "id": "191c4ce6fa3ad1c8",
   "execution_count": 688
  },
  {
   "cell_type": "markdown",
   "source": [
    "Use the appropriate functions to solve the following questions:"
   ],
   "metadata": {
    "collapsed": false
   },
   "id": "aa5122505376fd49"
  },
  {
   "cell_type": "markdown",
   "source": [
    "1. Create an array with 4 rows and 3 columns of zeros."
   ],
   "metadata": {
    "collapsed": false
   },
   "id": "34f593dba61cd8f6"
  },
  {
   "cell_type": "code",
   "outputs": [
    {
     "name": "stdout",
     "output_type": "stream",
     "text": [
      "[[0. 0. 0.]\n",
      " [0. 0. 0.]\n",
      " [0. 0. 0.]\n",
      " [0. 0. 0.]]\n"
     ]
    }
   ],
   "source": [
    "arr = np.zeros((4,3))\n",
    "print(arr)"
   ],
   "metadata": {
    "collapsed": false,
    "ExecuteTime": {
     "end_time": "2024-03-01T04:52:59.675931Z",
     "start_time": "2024-03-01T04:52:59.674350Z"
    }
   },
   "id": "b818d4d18e2e7c64",
   "execution_count": 689
  },
  {
   "cell_type": "markdown",
   "source": [
    "2. Create an array of ones that has 3 rows and 4 columns."
   ],
   "metadata": {
    "collapsed": false
   },
   "id": "33857fc2049e8058"
  },
  {
   "cell_type": "code",
   "outputs": [
    {
     "name": "stdout",
     "output_type": "stream",
     "text": [
      "[[1. 1. 1. 1.]\n",
      " [1. 1. 1. 1.]\n",
      " [1. 1. 1. 1.]]\n"
     ]
    }
   ],
   "source": [
    "arr = np.ones((3,4))\n",
    "print(arr)"
   ],
   "metadata": {
    "collapsed": false,
    "ExecuteTime": {
     "end_time": "2024-03-01T04:52:59.678875Z",
     "start_time": "2024-03-01T04:52:59.677194Z"
    }
   },
   "id": "3d6e06beed8c4fdd",
   "execution_count": 690
  },
  {
   "cell_type": "markdown",
   "source": [
    "3. Create an array containing integers 4 to 13 inclusive."
   ],
   "metadata": {
    "collapsed": false
   },
   "id": "f74d28c99c75b2b5"
  },
  {
   "cell_type": "code",
   "outputs": [
    {
     "name": "stdout",
     "output_type": "stream",
     "text": [
      "[ 4  5  6  7  8  9 10 11 12 13]\n"
     ]
    }
   ],
   "source": [
    "arr = np.arange(4,14)\n",
    "print(arr)"
   ],
   "metadata": {
    "collapsed": false,
    "ExecuteTime": {
     "end_time": "2024-03-01T04:52:59.694293Z",
     "start_time": "2024-03-01T04:52:59.692547Z"
    }
   },
   "id": "43a0441538cfc9d",
   "execution_count": 691
  },
  {
   "cell_type": "markdown",
   "source": [
    "4. Create an array containing [0., 1.5, 3., 4.5]"
   ],
   "metadata": {
    "collapsed": false
   },
   "id": "9af914fb555df013"
  },
  {
   "cell_type": "code",
   "outputs": [
    {
     "name": "stdout",
     "output_type": "stream",
     "text": [
      "[0.  1.5 3.  4.5]\n"
     ]
    }
   ],
   "source": [
    "arr = np.array([0.,1.5,3.,4.5]) # the '.' explicitly shows it's a floating-point num\n",
    "print(arr)"
   ],
   "metadata": {
    "collapsed": false,
    "ExecuteTime": {
     "end_time": "2024-03-01T04:52:59.724235Z",
     "start_time": "2024-03-01T04:52:59.722141Z"
    }
   },
   "id": "5d2f70f0c6c09b46",
   "execution_count": 692
  },
  {
   "cell_type": "markdown",
   "source": [
    "5. Create a 2 by 2 array containing '4' in each position."
   ],
   "metadata": {
    "collapsed": false
   },
   "id": "911bf608621a2b70"
  },
  {
   "cell_type": "code",
   "outputs": [
    {
     "name": "stdout",
     "output_type": "stream",
     "text": [
      "[[4 4]\n",
      " [4 4]]\n"
     ]
    }
   ],
   "source": [
    "arr = np.full((2,2),4)\n",
    "print(arr)"
   ],
   "metadata": {
    "collapsed": false,
    "ExecuteTime": {
     "end_time": "2024-03-01T04:52:59.730445Z",
     "start_time": "2024-03-01T04:52:59.728711Z"
    }
   },
   "id": "26447749195fd399",
   "execution_count": 693
  },
  {
   "cell_type": "markdown",
   "source": [
    "6. Create an identity matrix of size 4 and a diagonal matrix with [10,12] as the diagonals."
   ],
   "metadata": {
    "collapsed": false
   },
   "id": "e907e453ab3d7238"
  },
  {
   "cell_type": "code",
   "outputs": [
    {
     "name": "stdout",
     "output_type": "stream",
     "text": [
      "Identity:\n",
      " [[1. 0. 0. 0.]\n",
      " [0. 1. 0. 0.]\n",
      " [0. 0. 1. 0.]\n",
      " [0. 0. 0. 1.]]\n",
      "\n",
      "Diagonal:\n",
      " [[10  0]\n",
      " [ 0 12]]\n"
     ]
    }
   ],
   "source": [
    "print(\"Identity:\\n\", np.identity(4), end = \"\\n\\n\")\n",
    "print(\"Diagonal:\\n\", np.diag([10,12]))"
   ],
   "metadata": {
    "collapsed": false,
    "ExecuteTime": {
     "end_time": "2024-03-01T04:52:59.734093Z",
     "start_time": "2024-03-01T04:52:59.732220Z"
    }
   },
   "id": "79cf7762598ba13d",
   "execution_count": 694
  },
  {
   "cell_type": "markdown",
   "source": [
    "7. Create a 3 by 3 array with random floats in [0, 10]"
   ],
   "metadata": {
    "collapsed": false
   },
   "id": "ebc0e22fd1ce383a"
  },
  {
   "cell_type": "code",
   "outputs": [
    {
     "name": "stdout",
     "output_type": "stream",
     "text": [
      "[[9.98121118 8.16660585 8.73091391]\n",
      " [9.25576267 7.25182731 3.32057758]\n",
      " [7.12694168 7.90587994 8.89735723]]\n"
     ]
    }
   ],
   "source": [
    "arr = np.random.uniform(0,11,(3,3))\n",
    "print(arr)"
   ],
   "metadata": {
    "collapsed": false,
    "ExecuteTime": {
     "end_time": "2024-03-01T04:52:59.737239Z",
     "start_time": "2024-03-01T04:52:59.735745Z"
    }
   },
   "id": "90efa4216a87f3c1",
   "execution_count": 695
  },
  {
   "cell_type": "markdown",
   "source": [
    "8. Create a 3 by 3 array with random integers in [10, 20]"
   ],
   "metadata": {
    "collapsed": false
   },
   "id": "f8a61b7be0cc9f07"
  },
  {
   "cell_type": "code",
   "outputs": [
    {
     "name": "stdout",
     "output_type": "stream",
     "text": [
      "[[16.84066805 17.26049032 19.82745883]\n",
      " [16.09329062 14.28888502 16.96668283]\n",
      " [17.59029506 11.42219969 16.83224505]]\n"
     ]
    }
   ],
   "source": [
    "arr = np.random.uniform(10,21,(3,3))\n",
    "print(arr)"
   ],
   "metadata": {
    "collapsed": false,
    "ExecuteTime": {
     "end_time": "2024-03-01T04:52:59.744770Z",
     "start_time": "2024-03-01T04:52:59.743137Z"
    }
   },
   "id": "a35896501b3d238",
   "execution_count": 696
  },
  {
   "cell_type": "markdown",
   "source": [
    "Slicing arrays:"
   ],
   "metadata": {
    "collapsed": false
   },
   "id": "3a62efe04a540865"
  },
  {
   "cell_type": "markdown",
   "source": [],
   "metadata": {
    "collapsed": false
   },
   "id": "d22b37ff531b66e3"
  },
  {
   "cell_type": "markdown",
   "source": [
    "1. Use this array for the following practice:\n",
    "\n",
    "myArray = np.array([[11,12,13], [14,15,16], [17,18,19]])\n",
    "\n",
    "\n",
    "a. Get a subarray of the first row and first 2 columns.\n",
    "b. Change all elements in 1st and second row to 0."
   ],
   "metadata": {
    "collapsed": false
   },
   "id": "e413022566a6be95"
  },
  {
   "cell_type": "code",
   "outputs": [
    {
     "name": "stdout",
     "output_type": "stream",
     "text": [
      "Part A:\n",
      " [11 12]\n",
      "\n",
      "Part B:\n",
      " [[ 0  0  0]\n",
      " [ 0  0  0]\n",
      " [17 18 19]]\n"
     ]
    }
   ],
   "source": [
    "myArray = np.array([[11,12,13], [14,15,16], [17,18,19]])\n",
    "print(\"Part A:\\n\", myArray[0,:2], end=\"\\n\\n\")\n",
    "\n",
    "myArray[:2] = 0\n",
    "print(\"Part B:\\n\", myArray)"
   ],
   "metadata": {
    "collapsed": false,
    "ExecuteTime": {
     "end_time": "2024-03-01T04:52:59.752356Z",
     "start_time": "2024-03-01T04:52:59.750475Z"
    }
   },
   "id": "3a488f38bc7f7eb9",
   "execution_count": 697
  },
  {
   "cell_type": "markdown",
   "source": [
    "2. Create an array that contains [0,1,2,3,4,5,6,7,8,9,10,11,12,13,14,15,16,17,18,19,20] and reverse the order."
   ],
   "metadata": {
    "collapsed": false
   },
   "id": "7feacb25b09c2b04"
  },
  {
   "cell_type": "code",
   "outputs": [
    {
     "name": "stdout",
     "output_type": "stream",
     "text": [
      "[20 19 18 17 16 15 14 13 12 11 10  9  8  7  6  5  4  3  2  1  0]\n"
     ]
    }
   ],
   "source": [
    "arr = np.arange(21)\n",
    "reversedArr = np.flip(arr)\n",
    "print(reversedArr)"
   ],
   "metadata": {
    "collapsed": false,
    "ExecuteTime": {
     "end_time": "2024-03-01T04:52:59.783346Z",
     "start_time": "2024-03-01T04:52:59.781350Z"
    }
   },
   "id": "c52a2459b6a50f2c",
   "execution_count": 698
  },
  {
   "cell_type": "markdown",
   "source": [
    "Reshaping:"
   ],
   "metadata": {
    "collapsed": false
   },
   "id": "9f75a8cdb133a42b"
  },
  {
   "cell_type": "markdown",
   "source": [
    "1. Use this array for the following practice: \n",
    "\n",
    "myArray = np.array([[11,12,13], [14,15,16]])\n",
    "\n",
    "Reshape the array to an array with 3 rows."
   ],
   "metadata": {
    "collapsed": false
   },
   "id": "dcccc0e3377a06fe"
  },
  {
   "cell_type": "code",
   "outputs": [
    {
     "name": "stdout",
     "output_type": "stream",
     "text": [
      "[[11 12]\n",
      " [13 14]\n",
      " [15 16]]\n"
     ]
    }
   ],
   "source": [
    "myArray = np.array([[11,12,13], [14,15,16]])\n",
    "reshapedArr = myArray.reshape(3,-1) # -1 automatically calculates num of columns needed\n",
    "print(reshapedArr)"
   ],
   "metadata": {
    "collapsed": false,
    "ExecuteTime": {
     "end_time": "2024-03-01T04:52:59.793518Z",
     "start_time": "2024-03-01T04:52:59.791616Z"
    }
   },
   "id": "5f59b9772859b994",
   "execution_count": 699
  },
  {
   "cell_type": "markdown",
   "source": [
    "Math:"
   ],
   "metadata": {
    "collapsed": false
   },
   "id": "7d1d5c8aee9e09a3"
  },
  {
   "cell_type": "markdown",
   "source": [
    "Use this array for the following practice: "
   ],
   "metadata": {
    "collapsed": false
   },
   "id": "8c83159d31e73207"
  },
  {
   "cell_type": "code",
   "outputs": [],
   "source": [
    "myArray = np.arange(10)"
   ],
   "metadata": {
    "collapsed": false,
    "ExecuteTime": {
     "end_time": "2024-03-01T04:52:59.800352Z",
     "start_time": "2024-03-01T04:52:59.798996Z"
    }
   },
   "id": "61cb7a91b2e20119",
   "execution_count": 700
  },
  {
   "cell_type": "markdown",
   "source": [
    "1. Find the square of every number in array"
   ],
   "metadata": {
    "collapsed": false
   },
   "id": "68fd077952a98a44"
  },
  {
   "cell_type": "code",
   "outputs": [
    {
     "name": "stdout",
     "output_type": "stream",
     "text": [
      "[ 0  1  4  9 16 25 36 49 64 81]\n"
     ]
    }
   ],
   "source": [
    "sq = np.square(myArray)\n",
    "print(sq)"
   ],
   "metadata": {
    "collapsed": false,
    "ExecuteTime": {
     "end_time": "2024-03-01T04:52:59.804461Z",
     "start_time": "2024-03-01T04:52:59.802863Z"
    }
   },
   "id": "e18e2eb44265748a",
   "execution_count": 701
  },
  {
   "cell_type": "markdown",
   "source": [
    "2. Find the square root of every number in array"
   ],
   "metadata": {
    "collapsed": false
   },
   "id": "1851884b9885d417"
  },
  {
   "cell_type": "code",
   "outputs": [
    {
     "name": "stdout",
     "output_type": "stream",
     "text": [
      "[0.         1.         1.41421356 1.73205081 2.         2.23606798\n",
      " 2.44948974 2.64575131 2.82842712 3.        ]\n"
     ]
    }
   ],
   "source": [
    "sq_root = np.sqrt(myArray)\n",
    "print(sq_root)"
   ],
   "metadata": {
    "collapsed": false,
    "ExecuteTime": {
     "end_time": "2024-03-01T04:52:59.843635Z",
     "start_time": "2024-03-01T04:52:59.841556Z"
    }
   },
   "id": "c7ad66b725c49646",
   "execution_count": 702
  },
  {
   "cell_type": "markdown",
   "source": [
    "3. Multiply the square of each number in array with its respective square root"
   ],
   "metadata": {
    "collapsed": false
   },
   "id": "63ff831379724782"
  },
  {
   "cell_type": "code",
   "outputs": [
    {
     "name": "stdout",
     "output_type": "stream",
     "text": [
      "[  0.           1.           5.65685425  15.58845727  32.\n",
      "  55.90169944  88.18163074 129.64181424 181.01933598 243.        ]\n"
     ]
    }
   ],
   "source": [
    "mul = sq * sq_root\n",
    "print(mul)"
   ],
   "metadata": {
    "collapsed": false,
    "ExecuteTime": {
     "end_time": "2024-03-01T04:52:59.846784Z",
     "start_time": "2024-03-01T04:52:59.845140Z"
    }
   },
   "id": "e1c30da81639abfb",
   "execution_count": 703
  },
  {
   "cell_type": "markdown",
   "source": [
    "Adding elements:"
   ],
   "metadata": {
    "collapsed": false
   },
   "id": "c9a0919a8f336999"
  },
  {
   "cell_type": "markdown",
   "source": [
    "Use this array for the following practice:"
   ],
   "metadata": {
    "collapsed": false
   },
   "id": "dda73ebc035ec652"
  },
  {
   "cell_type": "code",
   "outputs": [],
   "source": [
    "myArray = np.array([[11,12,13], [14,15,16], [17,18,19]])"
   ],
   "metadata": {
    "collapsed": false,
    "ExecuteTime": {
     "end_time": "2024-03-01T04:52:59.854868Z",
     "start_time": "2024-03-01T04:52:59.853256Z"
    }
   },
   "id": "61afb897c8003df7",
   "execution_count": 704
  },
  {
   "cell_type": "markdown",
   "source": [
    "1. Add a new row of elements containing 20, 21 and 22"
   ],
   "metadata": {
    "collapsed": false
   },
   "id": "2248fd73a25f308e"
  },
  {
   "cell_type": "code",
   "outputs": [
    {
     "name": "stdout",
     "output_type": "stream",
     "text": [
      "[[11 12 13]\n",
      " [14 15 16]\n",
      " [17 18 19]\n",
      " [20 21 22]]\n"
     ]
    }
   ],
   "source": [
    "newArr = np.concatenate((myArray,np.arange(20,23).reshape(1,3)),axis=0) # you can also use np.vstack to add rows\n",
    "print(newArr)"
   ],
   "metadata": {
    "collapsed": false,
    "ExecuteTime": {
     "end_time": "2024-03-01T04:52:59.881012Z",
     "start_time": "2024-03-01T04:52:59.879009Z"
    }
   },
   "id": "f15847a6f625e45e",
   "execution_count": 705
  },
  {
   "cell_type": "markdown",
   "source": [
    "2. Add a new column of elements containing 30, 40 and 50"
   ],
   "metadata": {
    "collapsed": false
   },
   "id": "26b0256a149a5eb2"
  },
  {
   "cell_type": "code",
   "outputs": [
    {
     "name": "stdout",
     "output_type": "stream",
     "text": [
      "[[11 12 13 30]\n",
      " [14 15 16 40]\n",
      " [17 18 19 50]]\n"
     ]
    }
   ],
   "source": [
    "newArr = np.concatenate((myArray,np.array([[30],[40],[50]])),axis=1)\n",
    "print(newArr)"
   ],
   "metadata": {
    "collapsed": false,
    "ExecuteTime": {
     "end_time": "2024-03-01T04:52:59.889568Z",
     "start_time": "2024-03-01T04:52:59.887754Z"
    }
   },
   "id": "111d6ccbf5033b5a",
   "execution_count": 706
  },
  {
   "cell_type": "markdown",
   "source": [
    "Inserting elements:"
   ],
   "metadata": {
    "collapsed": false
   },
   "id": "d86f7edff9aa9cd1"
  },
  {
   "cell_type": "code",
   "outputs": [],
   "source": [
    "myArray = np.zeros((2,2))"
   ],
   "metadata": {
    "collapsed": false,
    "ExecuteTime": {
     "end_time": "2024-03-01T04:52:59.892393Z",
     "start_time": "2024-03-01T04:52:59.890860Z"
    }
   },
   "id": "f3568914b0dcb5e9",
   "execution_count": 707
  },
  {
   "cell_type": "markdown",
   "source": [
    "1. Add 1 column of 1 to myArray"
   ],
   "metadata": {
    "collapsed": false
   },
   "id": "bf9c11b67eae79d3"
  },
  {
   "cell_type": "code",
   "outputs": [
    {
     "name": "stdout",
     "output_type": "stream",
     "text": [
      "[[0. 0. 1.]\n",
      " [0. 0. 1.]]\n"
     ]
    }
   ],
   "source": [
    "myArray = np.insert(myArray,2,1,axis=1)\n",
    "print(myArray)"
   ],
   "metadata": {
    "collapsed": false,
    "ExecuteTime": {
     "end_time": "2024-03-01T04:52:59.900669Z",
     "start_time": "2024-03-01T04:52:59.898547Z"
    }
   },
   "id": "711214d33d1a7a53",
   "execution_count": 708
  },
  {
   "cell_type": "markdown",
   "source": [
    "2. Add 2 rows of 2 to the answer from part 1"
   ],
   "metadata": {
    "collapsed": false
   },
   "id": "4c444c1cfee32775"
  },
  {
   "cell_type": "code",
   "outputs": [
    {
     "name": "stdout",
     "output_type": "stream",
     "text": [
      "[[0. 0. 1.]\n",
      " [0. 0. 1.]\n",
      " [2. 2. 2.]\n",
      " [2. 2. 2.]]\n"
     ]
    }
   ],
   "source": [
    "myArray = np.vstack([myArray,np.full((2, myArray.shape[1]),2)])\n",
    "print(myArray)"
   ],
   "metadata": {
    "collapsed": false,
    "ExecuteTime": {
     "end_time": "2024-03-01T04:52:59.907684Z",
     "start_time": "2024-03-01T04:52:59.905749Z"
    }
   },
   "id": "f9ed08865d51ed5",
   "execution_count": 709
  },
  {
   "cell_type": "markdown",
   "source": [
    "3. Remove the last column"
   ],
   "metadata": {
    "collapsed": false
   },
   "id": "1c7599859ce390ec"
  },
  {
   "cell_type": "code",
   "outputs": [
    {
     "name": "stdout",
     "output_type": "stream",
     "text": [
      "[[0. 0.]\n",
      " [0. 0.]\n",
      " [2. 2.]\n",
      " [2. 2.]]\n"
     ]
    }
   ],
   "source": [
    "myArray = np.delete(myArray, -1, axis=1) # this uses negative array indexing\n",
    "print(myArray)"
   ],
   "metadata": {
    "collapsed": false,
    "ExecuteTime": {
     "end_time": "2024-03-01T04:52:59.927840Z",
     "start_time": "2024-03-01T04:52:59.925981Z"
    }
   },
   "id": "e0140cab3cfedda3",
   "execution_count": 710
  },
  {
   "cell_type": "markdown",
   "source": [
    "4. Remove the last row"
   ],
   "metadata": {
    "collapsed": false
   },
   "id": "43aaaa85d922c703"
  },
  {
   "cell_type": "code",
   "outputs": [
    {
     "name": "stdout",
     "output_type": "stream",
     "text": [
      "[[0. 0.]\n",
      " [0. 0.]\n",
      " [2. 2.]]\n"
     ]
    }
   ],
   "source": [
    "myArray = np.delete(myArray, -1, axis=0)\n",
    "print(myArray)"
   ],
   "metadata": {
    "collapsed": false,
    "ExecuteTime": {
     "end_time": "2024-03-01T04:52:59.931193Z",
     "start_time": "2024-03-01T04:52:59.929571Z"
    }
   },
   "id": "d73b6fa1356e02f0",
   "execution_count": 711
  },
  {
   "cell_type": "markdown",
   "source": [
    "Remove elements:"
   ],
   "metadata": {
    "collapsed": false
   },
   "id": "530d076a6fdc4f74"
  },
  {
   "cell_type": "markdown",
   "source": [
    "1. Remove the elements from the middle column of this array:"
   ],
   "metadata": {
    "collapsed": false
   },
   "id": "d5267efe7af5afb3"
  },
  {
   "cell_type": "code",
   "outputs": [
    {
     "name": "stdout",
     "output_type": "stream",
     "text": [
      "[[1 2 3]\n",
      " [4 5 6]\n",
      " [9 8 7]]\n"
     ]
    }
   ],
   "source": [
    "myArray = np.array([[1, 2, 3], [4, 5, 6], [9, 8, 7]])\n",
    "print(myArray)"
   ],
   "metadata": {
    "collapsed": false,
    "ExecuteTime": {
     "end_time": "2024-03-01T04:52:59.939690Z",
     "start_time": "2024-03-01T04:52:59.938030Z"
    }
   },
   "id": "16fdd2a2620f3579",
   "execution_count": 712
  },
  {
   "cell_type": "code",
   "outputs": [
    {
     "name": "stdout",
     "output_type": "stream",
     "text": [
      "[[1 3]\n",
      " [4 6]\n",
      " [9 7]]\n"
     ]
    }
   ],
   "source": [
    "myArray = np.delete(myArray, myArray.shape[1]//2, axis=1) # '//' is int division\n",
    "print(myArray)"
   ],
   "metadata": {
    "collapsed": false,
    "ExecuteTime": {
     "end_time": "2024-03-01T04:52:59.947906Z",
     "start_time": "2024-03-01T04:52:59.946212Z"
    }
   },
   "id": "42d68819274d7c4f",
   "execution_count": 713
  },
  {
   "cell_type": "markdown",
   "source": [
    "Test exercise:"
   ],
   "metadata": {
    "collapsed": false
   },
   "id": "d7113b9ca95c4d1b"
  },
  {
   "cell_type": "markdown",
   "source": [
    "1. Replace all odd numbers in the given array with -1"
   ],
   "metadata": {
    "collapsed": false
   },
   "id": "cb87198af35defe0"
  },
  {
   "cell_type": "code",
   "outputs": [
    {
     "name": "stdout",
     "output_type": "stream",
     "text": [
      "[0 1 2 3 4 5 6 7 8 9]\n"
     ]
    }
   ],
   "source": [
    "exercise_1 = np.array([0, 1, 2, 3, 4, 5, 6, 7, 8, 9])\n",
    "print(exercise_1)"
   ],
   "metadata": {
    "collapsed": false,
    "ExecuteTime": {
     "end_time": "2024-03-01T04:52:59.976773Z",
     "start_time": "2024-03-01T04:52:59.974907Z"
    }
   },
   "id": "a09be37b8a658d83",
   "execution_count": 714
  },
  {
   "cell_type": "code",
   "outputs": [
    {
     "name": "stdout",
     "output_type": "stream",
     "text": [
      "[ 0 -1  2 -1  4 -1  6 -1  8 -1]\n"
     ]
    }
   ],
   "source": [
    "exercise_1[exercise_1 % 2 == 1] = -1\n",
    "print(exercise_1)"
   ],
   "metadata": {
    "collapsed": false,
    "ExecuteTime": {
     "end_time": "2024-03-01T04:52:59.980023Z",
     "start_time": "2024-03-01T04:52:59.978321Z"
    }
   },
   "id": "6b7f0964ec341fa1",
   "execution_count": 715
  },
  {
   "cell_type": "markdown",
   "source": [
    "2. Convert a 1-D array into a 2-D array with 3 rows"
   ],
   "metadata": {
    "collapsed": false
   },
   "id": "99f78b4c0d90f2fc"
  },
  {
   "cell_type": "code",
   "outputs": [
    {
     "name": "stdout",
     "output_type": "stream",
     "text": [
      "[0 1 2 3 4 5 6 7 8]\n"
     ]
    }
   ],
   "source": [
    "exercise_2 = np.array([0, 1, 2, 3, 4, 5, 6, 7, 8])\n",
    "print(exercise_2)"
   ],
   "metadata": {
    "collapsed": false,
    "ExecuteTime": {
     "end_time": "2024-03-01T04:52:59.988107Z",
     "start_time": "2024-03-01T04:52:59.986498Z"
    }
   },
   "id": "3b273d8019eb46ee",
   "execution_count": 716
  },
  {
   "cell_type": "code",
   "outputs": [
    {
     "name": "stdout",
     "output_type": "stream",
     "text": [
      "[[0 1 2]\n",
      " [3 4 5]\n",
      " [6 7 8]]\n"
     ]
    }
   ],
   "source": [
    "exercise_2 = exercise_2.reshape(3,-1)\n",
    "print(exercise_2)"
   ],
   "metadata": {
    "collapsed": false,
    "ExecuteTime": {
     "end_time": "2024-03-01T04:52:59.995890Z",
     "start_time": "2024-03-01T04:52:59.994338Z"
    }
   },
   "id": "3d6d0b63d78bacad",
   "execution_count": 717
  },
  {
   "cell_type": "markdown",
   "source": [
    "3. Add 202 to all the values in given array"
   ],
   "metadata": {
    "collapsed": false
   },
   "id": "4fe2ada5e0f255bd"
  },
  {
   "cell_type": "code",
   "outputs": [
    {
     "name": "stdout",
     "output_type": "stream",
     "text": [
      "[[0 1]\n",
      " [2 3]]\n"
     ]
    }
   ],
   "source": [
    "exercise_3 = np.arange(4).reshape(2,-1)\n",
    "print(exercise_3)"
   ],
   "metadata": {
    "collapsed": false,
    "ExecuteTime": {
     "end_time": "2024-03-01T04:52:59.998800Z",
     "start_time": "2024-03-01T04:52:59.997041Z"
    }
   },
   "id": "a36e0dc231bd5562",
   "execution_count": 718
  },
  {
   "cell_type": "code",
   "outputs": [
    {
     "name": "stdout",
     "output_type": "stream",
     "text": [
      "[[202 203]\n",
      " [204 205]]\n"
     ]
    }
   ],
   "source": [
    "exercise_3 += 202\n",
    "print(exercise_3)"
   ],
   "metadata": {
    "collapsed": false,
    "ExecuteTime": {
     "end_time": "2024-03-01T04:53:00.023686Z",
     "start_time": "2024-03-01T04:53:00.021971Z"
    }
   },
   "id": "c530a4306fff3d36",
   "execution_count": 719
  },
  {
   "cell_type": "markdown",
   "source": [
    "4. Generate a 1-D array of 10 random integers. Each integer should be a number between 30 and 40 (inclusive)"
   ],
   "metadata": {
    "collapsed": false
   },
   "id": "e523e57f83885543"
  },
  {
   "cell_type": "code",
   "outputs": [
    {
     "name": "stdout",
     "output_type": "stream",
     "text": [
      "[37 34 33 31 31 31 32 31 35 37]\n"
     ]
    }
   ],
   "source": [
    "exercise_4 = np.random.randint(30,41,10)\n",
    "print(exercise_4)"
   ],
   "metadata": {
    "collapsed": false,
    "ExecuteTime": {
     "end_time": "2024-03-01T04:53:00.032247Z",
     "start_time": "2024-03-01T04:53:00.030362Z"
    }
   },
   "id": "8e09f81e25d7a958",
   "execution_count": 720
  },
  {
   "cell_type": "markdown",
   "source": [
    "5. Find the positions of:\n",
    "\n",
    "a. elements in x where its value is more than its corresponding element in y, and \n",
    "b. elements in x where its value is equals to its corresponding element in y."
   ],
   "metadata": {
    "collapsed": false
   },
   "id": "afddfee7577c64a0"
  },
  {
   "cell_type": "code",
   "outputs": [],
   "source": [
    "x = np.array([21, 64, 86, 22, 74, 55, 81, 79, 90, 89]) \n",
    "y = np.array([21, 7, 3, 45, 10, 29, 55, 4, 37, 18])"
   ],
   "metadata": {
    "collapsed": false,
    "ExecuteTime": {
     "end_time": "2024-03-01T04:53:00.035171Z",
     "start_time": "2024-03-01T04:53:00.033517Z"
    }
   },
   "id": "f788e0b5cbb7c59",
   "execution_count": 721
  },
  {
   "cell_type": "code",
   "outputs": [
    {
     "name": "stdout",
     "output_type": "stream",
     "text": [
      "Positions Greater:\n",
      " (array([1, 2, 4, 5, 6, 7, 8, 9]),) \n",
      "\n",
      " Positions Equal:\n",
      " (array([0]),)\n"
     ]
    }
   ],
   "source": [
    "pos_greater = np.where(x > y)\n",
    "pos_equal = np.where(x == y)\n",
    "print(\"Positions Greater:\\n\", pos_greater, \"\\n\\n\", \"Positions Equal:\\n\", pos_equal)"
   ],
   "metadata": {
    "collapsed": false,
    "ExecuteTime": {
     "end_time": "2024-03-01T04:53:00.042509Z",
     "start_time": "2024-03-01T04:53:00.040865Z"
    }
   },
   "id": "b483be5dbbfe8ee5",
   "execution_count": 722
  },
  {
   "cell_type": "markdown",
   "source": [
    "6. Extract the first four columns of this 2-D array"
   ],
   "metadata": {
    "collapsed": false
   },
   "id": "26695c4e4756f07d"
  },
  {
   "cell_type": "code",
   "outputs": [
    {
     "name": "stdout",
     "output_type": "stream",
     "text": [
      "[[ 0  1  2  3  4  5  6  7  8  9 10 11 12 13 14 15 16 17 18 19]\n",
      " [20 21 22 23 24 25 26 27 28 29 30 31 32 33 34 35 36 37 38 39]\n",
      " [40 41 42 43 44 45 46 47 48 49 50 51 52 53 54 55 56 57 58 59]\n",
      " [60 61 62 63 64 65 66 67 68 69 70 71 72 73 74 75 76 77 78 79]\n",
      " [80 81 82 83 84 85 86 87 88 89 90 91 92 93 94 95 96 97 98 99]]\n"
     ]
    }
   ],
   "source": [
    "exercise_6 = np.arange(100).reshape(5,-1)\n",
    "print(exercise_6)"
   ],
   "metadata": {
    "collapsed": false,
    "ExecuteTime": {
     "end_time": "2024-03-01T04:53:00.050469Z",
     "start_time": "2024-03-01T04:53:00.048825Z"
    }
   },
   "id": "da1f3a9d2a98e7b0",
   "execution_count": 723
  },
  {
   "cell_type": "code",
   "outputs": [
    {
     "name": "stdout",
     "output_type": "stream",
     "text": [
      "[[ 0  1  2  3]\n",
      " [20 21 22 23]\n",
      " [40 41 42 43]\n",
      " [60 61 62 63]\n",
      " [80 81 82 83]]\n"
     ]
    }
   ],
   "source": [
    "exercise_6 = exercise_6[:,:4]\n",
    "print(exercise_6)"
   ],
   "metadata": {
    "collapsed": false,
    "ExecuteTime": {
     "end_time": "2024-03-01T04:53:00.075766Z",
     "start_time": "2024-03-01T04:53:00.073261Z"
    }
   },
   "id": "ea15d1cea0ee3bde",
   "execution_count": 724
  }
 ],
 "metadata": {
  "kernelspec": {
   "display_name": "Python 3",
   "language": "python",
   "name": "python3"
  },
  "language_info": {
   "codemirror_mode": {
    "name": "ipython",
    "version": 2
   },
   "file_extension": ".py",
   "mimetype": "text/x-python",
   "name": "python",
   "nbconvert_exporter": "python",
   "pygments_lexer": "ipython2",
   "version": "2.7.6"
  }
 },
 "nbformat": 4,
 "nbformat_minor": 5
}
